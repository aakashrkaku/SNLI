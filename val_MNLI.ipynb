{
 "cells": [
  {
   "cell_type": "code",
   "execution_count": 216,
   "metadata": {},
   "outputs": [],
   "source": [
    "import numpy as np\n",
    "import torch\n",
    "import torch.nn as nn\n",
    "import torch.nn.functional as F\n",
    "from torch.utils.data import Dataset\n",
    "from collections import Counter\n",
    "import pickle as pkl\n",
    "import random\n",
    "import pdb\n",
    "random.seed(134)\n",
    "import pandas as pd\n",
    "import spacy\n",
    "import string\n",
    "from sklearn.model_selection import train_test_split\n",
    "PAD_IDX = 0\n",
    "UNK_IDX = 1\n",
    "BATCH_SIZE = 32\n",
    "MAX_SENT_LENGTH = 25\n",
    "import torch.optim as optim\n",
    "import matplotlib.pyplot as plt\n",
    "%matplotlib inline\n",
    "import torch.nn.init as I\n",
    "import pandas as pd"
   ]
  },
  {
   "cell_type": "code",
   "execution_count": 217,
   "metadata": {},
   "outputs": [],
   "source": [
    "import pickle\n",
    "def pickling(file,path):\n",
    "    pickle.dump(file,open(path,'wb'))\n",
    "def unpickling(path):\n",
    "    file_return=pickle.load(open(path,'rb'))\n",
    "    return file_return\n",
    "def count_parameters(model):\n",
    "    return sum(p.numel() for p in model.parameters() if p.requires_grad)"
   ]
  },
  {
   "cell_type": "code",
   "execution_count": 218,
   "metadata": {},
   "outputs": [],
   "source": [
    "train_data = pd.read_csv('snli_train.tsv',sep = '\\t')\n",
    "val_data = pd.read_csv('snli_val.tsv',sep = '\\t')"
   ]
  },
  {
   "cell_type": "code",
   "execution_count": 219,
   "metadata": {},
   "outputs": [],
   "source": [
    "def build_vocab(data):\n",
    "    all_tokens = compute_all_tokens(data)\n",
    "    token_counter = Counter(all_tokens)\n",
    "#     print(token_counter)\n",
    "    vocab = token_counter.keys()\n",
    "    id2token = list(vocab)\n",
    "    token2id = dict(zip(vocab, range(2,2+len(vocab)))) \n",
    "    id2token = ['<PAD>', '<UNK>'] + id2token\n",
    "    token2id['<PAD>'] = PAD_IDX \n",
    "    token2id['<UNK>'] = UNK_IDX\n",
    "    return token2id, id2token"
   ]
  },
  {
   "cell_type": "code",
   "execution_count": 220,
   "metadata": {},
   "outputs": [],
   "source": [
    "punctuations = string.punctuation\n",
    "def tokenize(sent):\n",
    "    tokens = sent.split()\n",
    "    return [token for token in tokens]"
   ]
  },
  {
   "cell_type": "code",
   "execution_count": 221,
   "metadata": {},
   "outputs": [],
   "source": [
    "def compute_all_tokens(data):\n",
    "    all_tokens_list = []\n",
    "    temp1 = data['sentence1'].apply(tokenize)\n",
    "    temp2 = data['sentence2'].apply(tokenize)\n",
    "    for i in temp1:\n",
    "        all_tokens_list += i\n",
    "    for i in temp2:\n",
    "        all_tokens_list += i\n",
    "    return all_tokens_list"
   ]
  },
  {
   "cell_type": "code",
   "execution_count": 222,
   "metadata": {},
   "outputs": [],
   "source": [
    "token2id, id2token = build_vocab(train_data)"
   ]
  },
  {
   "cell_type": "code",
   "execution_count": 223,
   "metadata": {},
   "outputs": [
    {
     "data": {
      "text/plain": [
       "0"
      ]
     },
     "execution_count": 223,
     "metadata": {},
     "output_type": "execute_result"
    }
   ],
   "source": [
    "token2id['<PAD>']"
   ]
  },
  {
   "cell_type": "code",
   "execution_count": 224,
   "metadata": {},
   "outputs": [],
   "source": [
    "words_to_load = 200000\n",
    "\n",
    "import numpy as np\n",
    "\n",
    "with open('/scratch/ark576/fasttext/crawl-300d-2M.vec') as f:\n",
    "    loaded_embeddings = np.zeros((words_to_load+2, 300))\n",
    "    words = {}\n",
    "    idx2words = {}\n",
    "    ordered_words = []\n",
    "    idx2words[0] = '<PAD>'\n",
    "    idx2words[1] = '<UNK>'\n",
    "    ordered_words.append('<PAD>')\n",
    "    ordered_words.append('<UNK>')\n",
    "    words['<PAD>'] = 0\n",
    "    words['<UNK>'] = 1\n",
    "    for i, line in enumerate(f):\n",
    "        if i >= words_to_load: \n",
    "            break\n",
    "        s = line.split()\n",
    "        loaded_embeddings[i+2, :] = np.asarray(s[1:])\n",
    "        words[s[0]] = i+2\n",
    "        idx2words[i+2] = s[0]\n",
    "        ordered_words.append(s[0])"
   ]
  },
  {
   "cell_type": "code",
   "execution_count": 225,
   "metadata": {},
   "outputs": [],
   "source": [
    "def filtered_vocab(token2id, id2token, ordered_words):\n",
    "    new_token2id = {}\n",
    "    new_id2token = []\n",
    "    words = set(ordered_words)\n",
    "    for w in id2token:\n",
    "        if w in words:\n",
    "            new_id2token.append(w)\n",
    "            new_token2id[w] = len(new_id2token)-1\n",
    "    return new_token2id, new_id2token"
   ]
  },
  {
   "cell_type": "code",
   "execution_count": 226,
   "metadata": {},
   "outputs": [],
   "source": [
    "new_token2id, new_id2token = filtered_vocab(token2id,id2token,ordered_words)"
   ]
  },
  {
   "cell_type": "code",
   "execution_count": 227,
   "metadata": {},
   "outputs": [],
   "source": [
    "def build_embedding_mat(id2token):\n",
    "    new_embeddings = np.zeros((len(id2token),300))\n",
    "    for i,w in enumerate(id2token):\n",
    "        new_embeddings[i,:] = loaded_embeddings[words[w]]\n",
    "    return new_embeddings\n",
    "    "
   ]
  },
  {
   "cell_type": "code",
   "execution_count": 228,
   "metadata": {},
   "outputs": [],
   "source": [
    "new_embeddings = build_embedding_mat(new_id2token)"
   ]
  },
  {
   "cell_type": "code",
   "execution_count": 229,
   "metadata": {},
   "outputs": [
    {
     "data": {
      "text/plain": [
       "(20523, 300)"
      ]
     },
     "execution_count": 229,
     "metadata": {},
     "output_type": "execute_result"
    }
   ],
   "source": [
    "new_embeddings.shape"
   ]
  },
  {
   "cell_type": "code",
   "execution_count": 231,
   "metadata": {},
   "outputs": [],
   "source": [
    "vocab_words = set(ordered_words)\n",
    "def idxize_sent(tokens, words = words):\n",
    "    idx_list = []\n",
    "    for w in tokens:\n",
    "        if w in vocab_words:\n",
    "            idx_list.append(words[w])\n",
    "        else:\n",
    "            idx_list.append(words['<UNK>'])\n",
    "    return idx_list"
   ]
  },
  {
   "cell_type": "code",
   "execution_count": 232,
   "metadata": {},
   "outputs": [],
   "source": [
    "def preprocess_data_set(data):\n",
    "    print('Tokenizing Sentence')\n",
    "    data['sent1_tokenize'] = data['sentence1'].apply(tokenize)\n",
    "    data['sent2_tokenize'] = data['sentence2'].apply(tokenize)\n",
    "    print('Tokenizing finished, saving the lengths of sentences')\n",
    "    data['sent1_len'] = data['sent1_tokenize'].apply(len)\n",
    "    data['sent2_len'] = data['sent2_tokenize'].apply(len)\n",
    "    print('Lenghts saved, Converting tokens to idx')\n",
    "    data['sent1_idx'] = data['sent1_tokenize'].apply(idxize_sent)\n",
    "    data['sent2_idx'] = data['sent2_tokenize'].apply(idxize_sent)\n",
    "    print('Conversion completed, Mapping Labels to int')\n",
    "    mapping = {'contradiction':0,'neutral':1,'entailment':2}\n",
    "    data['label_idx'] = data['label'].map(mapping)\n",
    "    return data"
   ]
  },
  {
   "cell_type": "code",
   "execution_count": 233,
   "metadata": {},
   "outputs": [],
   "source": [
    "def idx_to_vect(idxs):\n",
    "    list_word_vec = []\n",
    "    for i in idxs:\n",
    "        list_word_vec.append(loaded_embeddings[i])\n",
    "    return np.vstack(list_word_vec)"
   ]
  },
  {
   "cell_type": "code",
   "execution_count": 234,
   "metadata": {},
   "outputs": [
    {
     "name": "stdout",
     "output_type": "stream",
     "text": [
      "Tokenizing Sentence\n",
      "Tokenizing finished, saving the lengths of sentences\n",
      "Lenghts saved, Converting tokens to idx\n",
      "Conversion completed, Mapping Labels to int\n"
     ]
    }
   ],
   "source": [
    "train_data = preprocess_data_set(train_data)"
   ]
  },
  {
   "cell_type": "code",
   "execution_count": 235,
   "metadata": {
    "scrolled": true
   },
   "outputs": [
    {
     "data": {
      "text/html": [
       "<div>\n",
       "<style scoped>\n",
       "    .dataframe tbody tr th:only-of-type {\n",
       "        vertical-align: middle;\n",
       "    }\n",
       "\n",
       "    .dataframe tbody tr th {\n",
       "        vertical-align: top;\n",
       "    }\n",
       "\n",
       "    .dataframe thead th {\n",
       "        text-align: right;\n",
       "    }\n",
       "</style>\n",
       "<table border=\"1\" class=\"dataframe\">\n",
       "  <thead>\n",
       "    <tr style=\"text-align: right;\">\n",
       "      <th></th>\n",
       "      <th>sentence1</th>\n",
       "      <th>sentence2</th>\n",
       "      <th>label</th>\n",
       "      <th>sent1_tokenize</th>\n",
       "      <th>sent2_tokenize</th>\n",
       "      <th>sent1_len</th>\n",
       "      <th>sent2_len</th>\n",
       "      <th>sent1_idx</th>\n",
       "      <th>sent2_idx</th>\n",
       "      <th>label_idx</th>\n",
       "    </tr>\n",
       "  </thead>\n",
       "  <tbody>\n",
       "    <tr>\n",
       "      <th>0</th>\n",
       "      <td>A young girl in a pink shirt sitting on a dock...</td>\n",
       "      <td>A young girl watching the sunset over the water .</td>\n",
       "      <td>neutral</td>\n",
       "      <td>[A, young, girl, in, a, pink, shirt, sitting, ...</td>\n",
       "      <td>[A, young, girl, watching, the, sunset, over, ...</td>\n",
       "      <td>17</td>\n",
       "      <td>10</td>\n",
       "      <td>[88, 861, 795, 10, 9, 2823, 3362, 1820, 16, 9,...</td>\n",
       "      <td>[88, 861, 795, 1120, 4, 6962, 107, 4, 309, 5]</td>\n",
       "      <td>1</td>\n",
       "    </tr>\n",
       "    <tr>\n",
       "      <th>1</th>\n",
       "      <td>A woman is smiling while the man next to her i...</td>\n",
       "      <td>Two people are next to each other .</td>\n",
       "      <td>entailment</td>\n",
       "      <td>[A, woman, is, smiling, while, the, man, next,...</td>\n",
       "      <td>[Two, people, are, next, to, each, other, .]</td>\n",
       "      <td>22</td>\n",
       "      <td>8</td>\n",
       "      <td>[88, 669, 11, 6287, 149, 4, 289, 279, 7, 77, 1...</td>\n",
       "      <td>[1128, 90, 25, 279, 7, 193, 94, 5]</td>\n",
       "      <td>2</td>\n",
       "    </tr>\n",
       "    <tr>\n",
       "      <th>2</th>\n",
       "      <td>Across the river , you can see a large building .</td>\n",
       "      <td>The large building is full of apartments and t...</td>\n",
       "      <td>neutral</td>\n",
       "      <td>[Across, the, river, ,, you, can, see, a, larg...</td>\n",
       "      <td>[The, large, building, is, full, of, apartment...</td>\n",
       "      <td>11</td>\n",
       "      <td>9</td>\n",
       "      <td>[10127, 4, 2031, 3, 23, 57, 109, 9, 432, 514, 5]</td>\n",
       "      <td>[22, 432, 514, 11, 300, 8, 4932, 6, 10063]</td>\n",
       "      <td>1</td>\n",
       "    </tr>\n",
       "    <tr>\n",
       "      <th>3</th>\n",
       "      <td>a man in white shorts and a black shirt is par...</td>\n",
       "      <td>A man is riding a jetski on the ocean .</td>\n",
       "      <td>contradiction</td>\n",
       "      <td>[a, man, in, white, shorts, and, a, black, shi...</td>\n",
       "      <td>[A, man, is, riding, a, jetski, on, the, ocean...</td>\n",
       "      <td>14</td>\n",
       "      <td>10</td>\n",
       "      <td>[9, 289, 10, 638, 6378, 6, 9, 622, 3362, 11, 5...</td>\n",
       "      <td>[88, 289, 11, 2794, 9, 144101, 16, 4, 3166, 5]</td>\n",
       "      <td>0</td>\n",
       "    </tr>\n",
       "    <tr>\n",
       "      <th>4</th>\n",
       "      <td>Four black dogs run together on bright green g...</td>\n",
       "      <td>Four dogs are preparing to be launched into sp...</td>\n",
       "      <td>contradiction</td>\n",
       "      <td>[Four, black, dogs, run, together, on, bright,...</td>\n",
       "      <td>[Four, dogs, are, preparing, to, be, launched,...</td>\n",
       "      <td>10</td>\n",
       "      <td>10</td>\n",
       "      <td>[3682, 622, 1581, 311, 404, 16, 2347, 1111, 41...</td>\n",
       "      <td>[3682, 1581, 25, 3718, 7, 41, 2541, 103, 500, 5]</td>\n",
       "      <td>0</td>\n",
       "    </tr>\n",
       "  </tbody>\n",
       "</table>\n",
       "</div>"
      ],
      "text/plain": [
       "                                           sentence1  \\\n",
       "0  A young girl in a pink shirt sitting on a dock...   \n",
       "1  A woman is smiling while the man next to her i...   \n",
       "2  Across the river , you can see a large building .   \n",
       "3  a man in white shorts and a black shirt is par...   \n",
       "4  Four black dogs run together on bright green g...   \n",
       "\n",
       "                                           sentence2          label  \\\n",
       "0  A young girl watching the sunset over the water .        neutral   \n",
       "1                Two people are next to each other .     entailment   \n",
       "2  The large building is full of apartments and t...        neutral   \n",
       "3            A man is riding a jetski on the ocean .  contradiction   \n",
       "4  Four dogs are preparing to be launched into sp...  contradiction   \n",
       "\n",
       "                                      sent1_tokenize  \\\n",
       "0  [A, young, girl, in, a, pink, shirt, sitting, ...   \n",
       "1  [A, woman, is, smiling, while, the, man, next,...   \n",
       "2  [Across, the, river, ,, you, can, see, a, larg...   \n",
       "3  [a, man, in, white, shorts, and, a, black, shi...   \n",
       "4  [Four, black, dogs, run, together, on, bright,...   \n",
       "\n",
       "                                      sent2_tokenize  sent1_len  sent2_len  \\\n",
       "0  [A, young, girl, watching, the, sunset, over, ...         17         10   \n",
       "1       [Two, people, are, next, to, each, other, .]         22          8   \n",
       "2  [The, large, building, is, full, of, apartment...         11          9   \n",
       "3  [A, man, is, riding, a, jetski, on, the, ocean...         14         10   \n",
       "4  [Four, dogs, are, preparing, to, be, launched,...         10         10   \n",
       "\n",
       "                                           sent1_idx  \\\n",
       "0  [88, 861, 795, 10, 9, 2823, 3362, 1820, 16, 9,...   \n",
       "1  [88, 669, 11, 6287, 149, 4, 289, 279, 7, 77, 1...   \n",
       "2   [10127, 4, 2031, 3, 23, 57, 109, 9, 432, 514, 5]   \n",
       "3  [9, 289, 10, 638, 6378, 6, 9, 622, 3362, 11, 5...   \n",
       "4  [3682, 622, 1581, 311, 404, 16, 2347, 1111, 41...   \n",
       "\n",
       "                                          sent2_idx  label_idx  \n",
       "0     [88, 861, 795, 1120, 4, 6962, 107, 4, 309, 5]          1  \n",
       "1                [1128, 90, 25, 279, 7, 193, 94, 5]          2  \n",
       "2        [22, 432, 514, 11, 300, 8, 4932, 6, 10063]          1  \n",
       "3    [88, 289, 11, 2794, 9, 144101, 16, 4, 3166, 5]          0  \n",
       "4  [3682, 1581, 25, 3718, 7, 41, 2541, 103, 500, 5]          0  "
      ]
     },
     "execution_count": 235,
     "metadata": {},
     "output_type": "execute_result"
    }
   ],
   "source": [
    "train_data.head()"
   ]
  },
  {
   "cell_type": "code",
   "execution_count": 236,
   "metadata": {},
   "outputs": [
    {
     "name": "stdout",
     "output_type": "stream",
     "text": [
      "Tokenizing Sentence\n",
      "Tokenizing finished, saving the lengths of sentences\n",
      "Lenghts saved, Converting tokens to idx\n",
      "Conversion completed, Mapping Labels to int\n"
     ]
    }
   ],
   "source": [
    "val_data = preprocess_data_set(val_data)"
   ]
  },
  {
   "cell_type": "code",
   "execution_count": 237,
   "metadata": {},
   "outputs": [
    {
     "data": {
      "text/html": [
       "<div>\n",
       "<style scoped>\n",
       "    .dataframe tbody tr th:only-of-type {\n",
       "        vertical-align: middle;\n",
       "    }\n",
       "\n",
       "    .dataframe tbody tr th {\n",
       "        vertical-align: top;\n",
       "    }\n",
       "\n",
       "    .dataframe thead th {\n",
       "        text-align: right;\n",
       "    }\n",
       "</style>\n",
       "<table border=\"1\" class=\"dataframe\">\n",
       "  <thead>\n",
       "    <tr style=\"text-align: right;\">\n",
       "      <th></th>\n",
       "      <th>sentence1</th>\n",
       "      <th>sentence2</th>\n",
       "      <th>label</th>\n",
       "      <th>sent1_tokenize</th>\n",
       "      <th>sent2_tokenize</th>\n",
       "      <th>sent1_len</th>\n",
       "      <th>sent2_len</th>\n",
       "      <th>sent1_idx</th>\n",
       "      <th>sent2_idx</th>\n",
       "      <th>label_idx</th>\n",
       "    </tr>\n",
       "  </thead>\n",
       "  <tbody>\n",
       "    <tr>\n",
       "      <th>0</th>\n",
       "      <td>Three women on a stage , one wearing red shoes...</td>\n",
       "      <td>There are two women standing on the stage</td>\n",
       "      <td>contradiction</td>\n",
       "      <td>[Three, women, on, a, stage, ,, one, wearing, ...</td>\n",
       "      <td>[There, are, two, women, standing, on, the, st...</td>\n",
       "      <td>53</td>\n",
       "      <td>8</td>\n",
       "      <td>[2452, 347, 16, 9, 1010, 3, 44, 1654, 1067, 17...</td>\n",
       "      <td>[280, 25, 127, 347, 1928, 16, 4, 1010]</td>\n",
       "      <td>0</td>\n",
       "    </tr>\n",
       "    <tr>\n",
       "      <th>1</th>\n",
       "      <td>Four people sit on a subway two read books , o...</td>\n",
       "      <td>Multiple people are on a subway together , wit...</td>\n",
       "      <td>entailment</td>\n",
       "      <td>[Four, people, sit, on, a, subway, two, read, ...</td>\n",
       "      <td>[Multiple, people, are, on, a, subway, togethe...</td>\n",
       "      <td>22</td>\n",
       "      <td>17</td>\n",
       "      <td>[3682, 90, 1670, 16, 9, 11535, 127, 203, 465, ...</td>\n",
       "      <td>[8889, 90, 25, 16, 9, 11535, 404, 3, 17, 193, ...</td>\n",
       "      <td>2</td>\n",
       "    </tr>\n",
       "    <tr>\n",
       "      <th>2</th>\n",
       "      <td>bicycles stationed while a group of people soc...</td>\n",
       "      <td>People get together near a stand of bicycles .</td>\n",
       "      <td>entailment</td>\n",
       "      <td>[bicycles, stationed, while, a, group, of, peo...</td>\n",
       "      <td>[People, get, together, near, a, stand, of, bi...</td>\n",
       "      <td>9</td>\n",
       "      <td>9</td>\n",
       "      <td>[13166, 27392, 149, 9, 298, 8, 90, 24136, 5]</td>\n",
       "      <td>[903, 72, 404, 566, 9, 1079, 8, 13166, 5]</td>\n",
       "      <td>2</td>\n",
       "    </tr>\n",
       "    <tr>\n",
       "      <th>3</th>\n",
       "      <td>Man in overalls with two horses .</td>\n",
       "      <td>a man in overalls with two horses</td>\n",
       "      <td>entailment</td>\n",
       "      <td>[Man, in, overalls, with, two, horses, .]</td>\n",
       "      <td>[a, man, in, overalls, with, two, horses]</td>\n",
       "      <td>7</td>\n",
       "      <td>7</td>\n",
       "      <td>[1929, 10, 41603, 17, 127, 3313, 5]</td>\n",
       "      <td>[9, 289, 10, 41603, 17, 127, 3313]</td>\n",
       "      <td>2</td>\n",
       "    </tr>\n",
       "    <tr>\n",
       "      <th>4</th>\n",
       "      <td>Man observes a wavelength given off by an elec...</td>\n",
       "      <td>The man is examining what wavelength is given ...</td>\n",
       "      <td>entailment</td>\n",
       "      <td>[Man, observes, a, wavelength, given, off, by,...</td>\n",
       "      <td>[The, man, is, examining, what, wavelength, is...</td>\n",
       "      <td>11</td>\n",
       "      <td>13</td>\n",
       "      <td>[1929, 20376, 9, 17012, 352, 179, 35, 78, 3913...</td>\n",
       "      <td>[22, 289, 11, 9420, 73, 17012, 11, 352, 179, 3...</td>\n",
       "      <td>2</td>\n",
       "    </tr>\n",
       "  </tbody>\n",
       "</table>\n",
       "</div>"
      ],
      "text/plain": [
       "                                           sentence1  \\\n",
       "0  Three women on a stage , one wearing red shoes...   \n",
       "1  Four people sit on a subway two read books , o...   \n",
       "2  bicycles stationed while a group of people soc...   \n",
       "3                  Man in overalls with two horses .   \n",
       "4  Man observes a wavelength given off by an elec...   \n",
       "\n",
       "                                           sentence2          label  \\\n",
       "0          There are two women standing on the stage  contradiction   \n",
       "1  Multiple people are on a subway together , wit...     entailment   \n",
       "2     People get together near a stand of bicycles .     entailment   \n",
       "3                  a man in overalls with two horses     entailment   \n",
       "4  The man is examining what wavelength is given ...     entailment   \n",
       "\n",
       "                                      sent1_tokenize  \\\n",
       "0  [Three, women, on, a, stage, ,, one, wearing, ...   \n",
       "1  [Four, people, sit, on, a, subway, two, read, ...   \n",
       "2  [bicycles, stationed, while, a, group, of, peo...   \n",
       "3          [Man, in, overalls, with, two, horses, .]   \n",
       "4  [Man, observes, a, wavelength, given, off, by,...   \n",
       "\n",
       "                                      sent2_tokenize  sent1_len  sent2_len  \\\n",
       "0  [There, are, two, women, standing, on, the, st...         53          8   \n",
       "1  [Multiple, people, are, on, a, subway, togethe...         22         17   \n",
       "2  [People, get, together, near, a, stand, of, bi...          9          9   \n",
       "3          [a, man, in, overalls, with, two, horses]          7          7   \n",
       "4  [The, man, is, examining, what, wavelength, is...         11         13   \n",
       "\n",
       "                                           sent1_idx  \\\n",
       "0  [2452, 347, 16, 9, 1010, 3, 44, 1654, 1067, 17...   \n",
       "1  [3682, 90, 1670, 16, 9, 11535, 127, 203, 465, ...   \n",
       "2       [13166, 27392, 149, 9, 298, 8, 90, 24136, 5]   \n",
       "3                [1929, 10, 41603, 17, 127, 3313, 5]   \n",
       "4  [1929, 20376, 9, 17012, 352, 179, 35, 78, 3913...   \n",
       "\n",
       "                                           sent2_idx  label_idx  \n",
       "0             [280, 25, 127, 347, 1928, 16, 4, 1010]          0  \n",
       "1  [8889, 90, 25, 16, 9, 11535, 404, 3, 17, 193, ...          2  \n",
       "2          [903, 72, 404, 566, 9, 1079, 8, 13166, 5]          2  \n",
       "3                 [9, 289, 10, 41603, 17, 127, 3313]          2  \n",
       "4  [22, 289, 11, 9420, 73, 17012, 11, 352, 179, 3...          2  "
      ]
     },
     "execution_count": 237,
     "metadata": {},
     "output_type": "execute_result"
    }
   ],
   "source": [
    "val_data.head()"
   ]
  },
  {
   "cell_type": "code",
   "execution_count": 238,
   "metadata": {},
   "outputs": [],
   "source": [
    "# train_data, val_data = train_test_split(data, test_size = 0.2, stratify = data['label'])"
   ]
  },
  {
   "cell_type": "code",
   "execution_count": 239,
   "metadata": {},
   "outputs": [],
   "source": [
    "# pickling(train_data,'train_SNLI_data.p')"
   ]
  },
  {
   "cell_type": "code",
   "execution_count": 240,
   "metadata": {},
   "outputs": [],
   "source": [
    "# pickling(val_data,'val_SNLI_data.p')"
   ]
  },
  {
   "cell_type": "code",
   "execution_count": 241,
   "metadata": {},
   "outputs": [],
   "source": [
    "def check_1s(x):\n",
    "    if 1 in set(x):\n",
    "        return 1\n",
    "    else:\n",
    "        return 0"
   ]
  },
  {
   "cell_type": "code",
   "execution_count": 242,
   "metadata": {},
   "outputs": [],
   "source": [
    "a = train_data['sent2_idx'].apply(check_1s)"
   ]
  },
  {
   "cell_type": "code",
   "execution_count": 243,
   "metadata": {
    "scrolled": true
   },
   "outputs": [
    {
     "data": {
      "text/plain": [
       "0.02633"
      ]
     },
     "execution_count": 243,
     "metadata": {},
     "output_type": "execute_result"
    }
   ],
   "source": [
    "np.sum(a)/a.shape[0]"
   ]
  },
  {
   "cell_type": "code",
   "execution_count": 245,
   "metadata": {},
   "outputs": [],
   "source": [
    "MAX_SENTENCE_LENGTH = 50\n",
    "\n",
    "import numpy as np\n",
    "import torch\n",
    "from torch.utils.data import Dataset\n",
    "\n",
    "class SNLI(Dataset):\n",
    "    \n",
    "    def __init__(self, df):\n",
    "        self.df = df\n",
    "\n",
    "    def __len__(self):\n",
    "        return len(self.df)\n",
    "        \n",
    "    def __getitem__(self, key):\n",
    "        data_name = self.df.iloc[key].name\n",
    "        sent1_idxs = self.df['sent1_idx'].iloc[key][:MAX_SENTENCE_LENGTH]\n",
    "        m_sent1 = np.array(sent1_idxs)==1\n",
    "        sent2_idxs = self.df['sent2_idx'].iloc[key][:MAX_SENTENCE_LENGTH]\n",
    "        m_sent2 = np.array(sent2_idxs)==1\n",
    "#         sent1_vec = torch.from_numpy(idx_to_vect(sent1_idxs)).type(torch.FloatTensor)\n",
    "#         sent2_vec = torch.from_numpy(idx_to_vect(sent2_idxs)).type(torch.FloatTensor)\n",
    "        label = self.df['label_idx'].iloc[key]\n",
    "        return [sent1_idxs,sent2_idxs, len(sent1_idxs),len(sent2_idxs), int(label),data_name,m_sent1,m_sent2]\n",
    "\n",
    "def SNLI_collate_func(batch):\n",
    "    \"\"\"\n",
    "    Customized function for DataLoader that dynamically pads the batch so that all \n",
    "    data have the same length\n",
    "    \"\"\"\n",
    "    sent1_list = []\n",
    "    sent2_list = []\n",
    "    label_list = []\n",
    "    sent1_length_list = []\n",
    "    sent2_length_list = []\n",
    "    data_name_list = []\n",
    "    m_sent1_list = []\n",
    "    m_sent2_list = []\n",
    "    #print(\"collate batch: \", batch[0][0])\n",
    "    #batch[0][0] = batch[0][0][:MAX_SENTENCE_LENGTH]\n",
    "    for datum in batch:\n",
    "        label_list.append(datum[4])\n",
    "        sent1_length_list.append(datum[2])\n",
    "        sent2_length_list.append(datum[3])\n",
    "        data_name_list.append(datum[5])\n",
    "    # padding\n",
    "    for datum in batch:\n",
    "        padded_sent1 = np.pad(np.array(datum[0]), \n",
    "                                pad_width=((0,MAX_SENTENCE_LENGTH-datum[2])), \n",
    "                                mode=\"constant\", constant_values=0)\n",
    "        padded_sent2 = np.pad(np.array(datum[1]), \n",
    "                                pad_width=((0,MAX_SENTENCE_LENGTH-datum[3])), \n",
    "                                mode=\"constant\", constant_values=0)\n",
    "        padded_m_sent1 = np.pad(np.array(datum[6]), \n",
    "                                pad_width=((0,MAX_SENTENCE_LENGTH-datum[2])), \n",
    "                                mode=\"constant\", constant_values=0)\n",
    "        padded_m_sent2 = np.pad(np.array(datum[7]), \n",
    "                                pad_width=((0,MAX_SENTENCE_LENGTH-datum[3])), \n",
    "                                mode=\"constant\", constant_values=0)\n",
    "        sent1_list.append(padded_sent1)\n",
    "        sent2_list.append(padded_sent2)\n",
    "        m_sent1_list.append(padded_m_sent1)\n",
    "        m_sent2_list.append(padded_m_sent2)\n",
    "    ind_dec_order = np.argsort(sent1_length_list)[::-1]\n",
    "    sent1_list = np.array(sent1_list)[ind_dec_order].astype(int)\n",
    "    sent2_list = np.array(sent2_list)[ind_dec_order].astype(int)\n",
    "    sent1_length_list = np.array(sent1_length_list)[ind_dec_order]\n",
    "    sent2_length_list = np.array(sent2_length_list)[ind_dec_order]\n",
    "    label_list = np.array(label_list)[ind_dec_order]\n",
    "    m_sent1_list = np.array(m_sent1_list)[ind_dec_order].astype(float)\n",
    "    m_sent2_list = np.array(m_sent2_list)[ind_dec_order].astype(float)\n",
    "    data_name_list = np.array(data_name_list)[ind_dec_order]\n",
    "    return [torch.from_numpy(np.array(sent1_list)),torch.from_numpy(np.array(sent2_list)), \\\n",
    "            torch.LongTensor(sent1_length_list),torch.LongTensor(sent2_length_list),torch.LongTensor(label_list),\\\n",
    "           data_name_list, torch.FloatTensor(m_sent1_list),torch.FloatTensor(m_sent2_list)]\n",
    "\n",
    "# create pytorch dataloader\n",
    "#train_loader = NewsGroupDataset(train_data_indices, train_targets)\n",
    "#val_loader = NewsGroupDataset(val_data_indices, val_targets)\n",
    "#test_loader = NewsGroupDataset(test_data_indices, test_targets)\n",
    "\n",
    "BATCH_SIZE = 128\n",
    "train_dataset = SNLI(train_data)\n",
    "train_loader = torch.utils.data.DataLoader(dataset=train_dataset, \n",
    "                                           batch_size=BATCH_SIZE,\n",
    "                                           collate_fn=SNLI_collate_func,\n",
    "                                           shuffle=True)\n",
    "\n",
    "val_dataset = SNLI(val_data)\n",
    "val_loader = torch.utils.data.DataLoader(dataset=val_dataset, \n",
    "                                           batch_size=BATCH_SIZE,\n",
    "                                           collate_fn=SNLI_collate_func,\n",
    "                                           shuffle=True)\n",
    "# genre = np.unique(val_data['genre'])\n",
    "# val_data_loaders = []\n",
    "# train_dataset = SNLI(train_data)\n",
    "# train_loader = torch.utils.data.DataLoader(dataset=train_dataset, \n",
    "#                                            batch_size=BATCH_SIZE,\n",
    "#                                            collate_fn=SNLI_collate_func,\n",
    "#                                            shuffle=True)\n",
    "# for g in genre:\n",
    "#     val_dataset = SNLI(val_data[val_data['genre'] == g])\n",
    "#     val_loader = torch.utils.data.DataLoader(dataset=val_dataset, \n",
    "#                                                batch_size=BATCH_SIZE,\n",
    "#                                                collate_fn=SNLI_collate_func,\n",
    "#                                                shuffle=True)\n",
    "#     val_data_loaders.append(val_loader)\n",
    "\n",
    "#for i, (data, lengths, labels) in enumerate(train_loader):\n",
    "#    print (data)\n",
    "#    print (labels)\n",
    "#    break"
   ]
  },
  {
   "cell_type": "code",
   "execution_count": 246,
   "metadata": {},
   "outputs": [
    {
     "name": "stdout",
     "output_type": "stream",
     "text": [
      "torch.Size([128, 50])\n",
      "torch.Size([128, 50])\n",
      "torch.Size([128])\n",
      "torch.Size([128])\n",
      "torch.Size([128])\n"
     ]
    }
   ],
   "source": [
    "for i, (j) in enumerate(train_loader):\n",
    "    print (j[0].size())\n",
    "    print (j[1].size())\n",
    "    print (j[2].size())\n",
    "    print (j[3].size())\n",
    "    print (j[4].size())\n",
    "    break"
   ]
  },
  {
   "cell_type": "code",
   "execution_count": 247,
   "metadata": {},
   "outputs": [],
   "source": [
    "class GRU(nn.Module):\n",
    "    def __init__(self, emb_size, hidden_size, dropout, vocab_size = loaded_embeddings.shape[0],):\n",
    "        super(GRU, self).__init__()\n",
    "        self.hidden_size = hidden_size\n",
    "        self.embedding = nn.Embedding(vocab_size, emb_size, padding_idx=PAD_IDX)\n",
    "        self.embedding.from_pretrained(torch.from_numpy(loaded_embeddings).cuda(), freeze = False)\n",
    "        self.embedding.weight.requires_grad = True\n",
    "        self.gru = nn.GRU(emb_size, hidden_size, 2, batch_first=True, bidirectional = True)\n",
    "        self.linear1 = nn.Linear(2*hidden_size, hidden_size)\n",
    "        self.linear2 = nn.Linear(hidden_size, 3)\n",
    "        self.dropout = dropout\n",
    "\n",
    "    def init_hidden(self, batch_size):\n",
    "        # Function initializes the activation of recurrent neural net at timestep 0\n",
    "        # Needs to be in format (num_layers, batch_size, hidden_size)\n",
    "        hidden = torch.zeros(2*2, batch_size, self.hidden_size).cuda()\n",
    "\n",
    "        return hidden\n",
    "\n",
    "    def forward(self, x1,x2,len1,len2,m1,m2):\n",
    "        # reset hidden state\n",
    "\n",
    "        batch_size, seq_len = x1.size()\n",
    "\n",
    "        self.hidden = self.init_hidden(batch_size)\n",
    "        # get embedding of characters\n",
    "        embed1 = self.embedding(x1)\n",
    "        embed2 = self.embedding(x2)\n",
    "        # pack padded sequence\n",
    "#         embed1 = torch.nn.utils.rnn.pack_padded_sequence(embed1, len1.numpy(), batch_first=True)\n",
    "#         embed2 = torch.nn.utils.rnn.pack_padded_sequence(embed2, len2.numpy(), batch_first=True)\n",
    "        # fprop though RNN\n",
    "        _, h1 = self.gru(embed1, self.hidden)\n",
    "#         self.hidden = self.init_hidden(batch_size)\n",
    "        _, h2 = self.gru(embed2, self.hidden)\n",
    "        # undo packing\n",
    "#         gru_out_1, _ = torch.nn.utils.rnn.pad_packed_sequence(gru_out_1, batch_first=True)\n",
    "#         gru_out_2, _ = torch.nn.utils.rnn.pad_packed_sequence(gru_out_2, batch_first=True)\n",
    "        # sum hidden activations of RNN across time\n",
    "#         gru_out_1 = torch.sum(gru_out_1, dim = 1)\n",
    "#         gru_out_2 = torch.sum(gru_out_2, dim = 1)\n",
    "        \n",
    "#         print(h1.size())\n",
    "#         print(h2.size())\n",
    "        h1 = torch.sum(h1,dim = 0)\n",
    "        h2 = torch.sum(h2,dim = 0)\n",
    "        #cat hidden rep\n",
    "        x = torch.cat([h1,h2],dim = 1)\n",
    "        x = F.dropout(F.relu(self.linear1(x)),p = self.dropout)\n",
    "        x = self.linear2(x)\n",
    "        return x"
   ]
  },
  {
   "cell_type": "code",
   "execution_count": 248,
   "metadata": {},
   "outputs": [],
   "source": [
    "def init_weights(m):\n",
    "    if (type(m) == nn.Linear):\n",
    "        torch.nn.init.xavier_normal_(m.weight)\n",
    "        m.bias.data.fill_(0.01)\n",
    "#     if type(m) == nn.GRU:\n",
    "#         torch.nn.init.xavier_normal_(m.weight_hh_l0_reverse)\n",
    "#         torch.nn.init.xavier_normal_(m.weight_ih_l0_reverse)\n",
    "#         torch.nn.init.xavier_normal_(m.weight_hh_l0)\n",
    "#         torch.nn.init.xavier_normal_(m.weight_ih_l0)"
   ]
  },
  {
   "cell_type": "code",
   "execution_count": 249,
   "metadata": {},
   "outputs": [],
   "source": [
    "def test_model(loader, model, criterion):\n",
    "    \"\"\"\n",
    "    Help function that tests the model's performance on a dataset\n",
    "    @param: loader - data loader for the dataset to test against\n",
    "    \"\"\"\n",
    "    correct = 0\n",
    "    total = 0\n",
    "    model.eval()\n",
    "    predictions = []\n",
    "    for batch in loader:\n",
    "        out = model(batch[0].cuda(), batch[1].cuda(), batch[2],batch[3], batch[6].cuda(),batch[7].cuda())\n",
    "        outputs = F.softmax(out, dim=1)\n",
    "        predicted = outputs.max(1, keepdim=True)[1].cpu()\n",
    "        loss = criterion(outputs,batch[4].cuda())\n",
    "        total += batch[4].size(0)\n",
    "        correct += predicted.eq(batch[4].view_as(predicted)).sum().item()\n",
    "        predictions.append((batch[5],predicted.squeeze().numpy(),batch[4].numpy()))\n",
    "    return (100 * correct / total), loss.item(), np.concatenate(predictions,axis = 1).T"
   ]
  },
  {
   "cell_type": "code",
   "execution_count": 270,
   "metadata": {},
   "outputs": [],
   "source": [
    "mask = np.zeros(loaded_embeddings.shape[0])\n",
    "mask[1] = 1\n",
    "def train_model(model,criterion,optimizer,train_loader,val_loader, name, num_epochs = 5, val_every = 3):\n",
    "\n",
    "    loss_dict = {'train':[],'val':[]}\n",
    "    acc_dict = {'train':[],'val':[]}\n",
    "    best_acc = 0\n",
    "    best_pred = None\n",
    "    best_wts = None\n",
    "    for epoch in range(num_epochs):\n",
    "        correct = 0\n",
    "        total = 0\n",
    "        for i, (batch) in enumerate(train_loader):\n",
    "            model.train()\n",
    "            optimizer.zero_grad()\n",
    "            outputs = model(batch[0].cuda(), batch[1].cuda(), batch[2],batch[3],batch[6].cuda(),batch[7].cuda())\n",
    "            loss = criterion(outputs, batch[4].cuda())\n",
    "            loss.backward()\n",
    "            model.embedding.weight.grad[torch.from_numpy(mask) == 0]=0\n",
    "            optimizer.step()\n",
    "            out = F.softmax(outputs, dim=1)\n",
    "            if i>0 and i%val_every == 0:\n",
    "                predicted = out.max(1, keepdim=True)[1]\n",
    "                total += batch[4].size(0)\n",
    "                correct += predicted.eq(batch[4].cuda().view_as(predicted)).sum().item()\n",
    "                loss_dict['train'].append(loss.item())\n",
    "                acc_dict['train'].append((100 * correct / total))\n",
    "    #         loss_2 = criterion2(torch.round(outputs[1]), label_rat_batch)\n",
    "    #         loss = loss_2\n",
    "            # validate every 100 iterations\n",
    "            if i>0 and i%val_every == 0:\n",
    "                # validate\n",
    "                val_acc, val_loss,pred= test_model(val_loader, model, criterion)\n",
    "                loss_dict['val'].append(val_loss)\n",
    "                acc_dict['val'].append(val_acc)\n",
    "                print('Epoch: [{}/{}], Step: [{}/{}], Validation Acc: {}'.format( \n",
    "                                   epoch+1, num_epochs, i+1, len(train_loader), val_acc))\n",
    "                if val_acc > best_acc:\n",
    "                    torch.save(model,'/scratch/ark576/NLP_HW_2/'+name)\n",
    "                    best_pred = pred\n",
    "                    best_acc = val_acc\n",
    "                    best_wts = model.state_dict()\n",
    "    print('Best Accuracy:{}'.format(best_acc))\n",
    "    pickling(loss_dict,'/scratch/ark576/NLP_HW_2/'+name+'_loss_hist')\n",
    "    pickling(acc_dict,'/scratch/ark576/NLP_HW_2/'+name+'_acc_hist')\n",
    "    pickling(best_pred,'/scratch/ark576/NLP_HW_2/'+name+'_preds')\n",
    "    model.load_state_dict(best_wts)\n",
    "    return model, loss_dict, acc_dict, best_pred"
   ]
  },
  {
   "cell_type": "code",
   "execution_count": 251,
   "metadata": {},
   "outputs": [],
   "source": [
    "class GRU(nn.Module):\n",
    "    def __init__(self, emb_size, hidden_size, dropout, vocab_size = loaded_embeddings.shape[0],):\n",
    "        super(GRU, self).__init__()\n",
    "        self.hidden_size = hidden_size\n",
    "        self.embedding = nn.Embedding(vocab_size, emb_size, padding_idx=PAD_IDX)\n",
    "        self.embedding.from_pretrained(torch.from_numpy(loaded_embeddings).cuda(), freeze = False)\n",
    "        self.embedding.weight.requires_grad = True\n",
    "        self.gru = nn.GRU(emb_size, hidden_size, 1, batch_first=True, bidirectional = True)\n",
    "        self.linear1 = nn.Linear(hidden_size, hidden_size)\n",
    "        self.linear2 = nn.Linear(hidden_size, 3)\n",
    "        self.dropout = dropout\n",
    "\n",
    "    def init_hidden(self, batch_size):\n",
    "        # Function initializes the activation of recurrent neural net at timestep 0\n",
    "        # Needs to be in format (num_layers, batch_size, hidden_size)\n",
    "        hidden = torch.randn(1*2, batch_size, self.hidden_size).cuda()\n",
    "\n",
    "        return hidden\n",
    "\n",
    "    def forward(self, x1,x2,len1,len2,m1,m2):\n",
    "        # reset hidden state\n",
    "\n",
    "        batch_size, seq_len = x1.size()\n",
    "\n",
    "        self.hidden = self.init_hidden(batch_size)\n",
    "\n",
    "        # get embedding of characters\n",
    "        embed1 = self.embedding(x1)\n",
    "        embed2 = self.embedding(x2)\n",
    "        # pack padded sequence\n",
    "#         embed1 = torch.nn.utils.rnn.pack_padded_sequence(embed1, len1.numpy(), batch_first=True)\n",
    "#         embed2 = torch.nn.utils.rnn.pack_padded_sequence(embed2, len2.numpy(), batch_first=True)\n",
    "        # fprop though RNN\n",
    "        self.gru.flatten_parameters()\n",
    "        _, h1 = self.gru(embed1, self.hidden)\n",
    "        _, h2 = self.gru(embed2, self.hidden)\n",
    "        # undo packing\n",
    "#         gru_out_1, _ = torch.nn.utils.rnn.pad_packed_sequence(gru_out_1, batch_first=True)\n",
    "#         gru_out_2, _ = torch.nn.utils.rnn.pad_packed_sequence(gru_out_2, batch_first=True)\n",
    "        # sum hidden activations of RNN across time\n",
    "#         gru_out_1 = torch.sum(gru_out_1, dim = 1)\n",
    "#         gru_out_2 = torch.sum(gru_out_2, dim = 1)\n",
    "        \n",
    "#         print(h1.size())\n",
    "#         print(h2.size())\n",
    "        h1 = torch.sum(h1,dim = 0)\n",
    "        h2 = torch.sum(h2,dim = 0)\n",
    "        #cat hidden rep\n",
    "        x = h1*h2\n",
    "        x = F.dropout(F.relu(self.linear1(x)),p = self.dropout)\n",
    "        x = self.linear2(x)\n",
    "        return x"
   ]
  },
  {
   "cell_type": "code",
   "execution_count": 252,
   "metadata": {},
   "outputs": [],
   "source": [
    "class CNN(nn.Module):\n",
    "    def __init__(self, hidden_size,ks , emb_size = 300, vocab_size = loaded_embeddings.shape[0]):\n",
    "\n",
    "        super(CNN, self).__init__()\n",
    "\n",
    "        self.hidden_size = hidden_size\n",
    "        self.embedding = nn.Embedding(vocab_size, emb_size, padding_idx=PAD_IDX)\n",
    "        self.embedding.from_pretrained(torch.from_numpy(loaded_embeddings).cuda(), freeze = False)\n",
    "        self.embedding.weight.requires_grad = True\n",
    "        self.conv1 = nn.Conv1d(emb_size, hidden_size, kernel_size=ks, padding=int((ks-1)/2))\n",
    "        self.conv2 = nn.Conv1d(hidden_size, hidden_size, kernel_size=ks, padding=int((ks-1)/2))\n",
    "\n",
    "        self.linear1 = nn.Linear(hidden_size*2, hidden_size)\n",
    "        self.linear2 = nn.Linear(hidden_size, 3)\n",
    "\n",
    "    def forward(self,x1,x2,len1,len2,m1,m2):\n",
    "        batch_size, seq_len1 = x1.size()\n",
    "        batch_size, seq_len2 = x1.size()\n",
    "        embed1 = self.embedding(x1)\n",
    "        hidden1 = self.conv1(embed1.transpose(1,2)).transpose(1,2)\n",
    "        hidden1 = F.relu(hidden1.contiguous().view(-1, hidden1.size(-1))).view(batch_size, seq_len1, hidden1.size(-1))\n",
    "\n",
    "        hidden1 = self.conv2(hidden1.transpose(1,2)).transpose(1,2)\n",
    "        hidden1 = F.relu(hidden1.contiguous().view(-1, hidden1.size(-1))).view(batch_size, seq_len1, hidden1.size(-1))\n",
    "        \n",
    "        embed2 = self.embedding(x2)\n",
    "        hidden2 = self.conv1(embed2.transpose(1,2)).transpose(1,2)\n",
    "        hidden2 = F.relu(hidden2.contiguous().view(-1, hidden2.size(-1))).view(batch_size, seq_len2, hidden2.size(-1))\n",
    "\n",
    "        hidden2 = self.conv2(hidden2.transpose(1,2)).transpose(1,2)\n",
    "        hidden2 = F.relu(hidden2.contiguous().view(-1, hidden2.size(-1))).view(batch_size, seq_len2, hidden2.size(-1))\n",
    "        \n",
    "        hidden1 = F.max_pool1d(hidden1.transpose(1,2), seq_len1).squeeze()\n",
    "        hidden2 = F.max_pool1d(hidden2.transpose(1,2), seq_len1).squeeze()\n",
    "        x = torch.cat([hidden1,hidden2],dim = 1)\n",
    "        x = F.relu(self.linear1(x))\n",
    "        x = self.linear2(x)\n",
    "        return x"
   ]
  },
  {
   "cell_type": "markdown",
   "metadata": {
    "heading_collapsed": true
   },
   "source": [
    "# Pretraining GRU Model"
   ]
  },
  {
   "cell_type": "code",
   "execution_count": 271,
   "metadata": {
    "hidden": true
   },
   "outputs": [],
   "source": [
    "gru = GRU(300,400,dropout = 0).cuda()"
   ]
  },
  {
   "cell_type": "code",
   "execution_count": 272,
   "metadata": {
    "hidden": true
   },
   "outputs": [
    {
     "data": {
      "text/plain": [
       "GRU(\n",
       "  (embedding): Embedding(200002, 300, padding_idx=0)\n",
       "  (gru): GRU(300, 400, batch_first=True, bidirectional=True)\n",
       "  (linear1): Linear(in_features=400, out_features=400, bias=True)\n",
       "  (linear2): Linear(in_features=400, out_features=3, bias=True)\n",
       ")"
      ]
     },
     "execution_count": 272,
     "metadata": {},
     "output_type": "execute_result"
    }
   ],
   "source": [
    "gru.apply(init_weights)"
   ]
  },
  {
   "cell_type": "code",
   "execution_count": 273,
   "metadata": {
    "hidden": true
   },
   "outputs": [],
   "source": [
    "optimizer = optim.Adam(filter(lambda p: p.requires_grad, gru.parameters()), lr = 1e-3)"
   ]
  },
  {
   "cell_type": "code",
   "execution_count": 274,
   "metadata": {
    "hidden": true
   },
   "outputs": [],
   "source": [
    "criterion = nn.CrossEntropyLoss()"
   ]
  },
  {
   "cell_type": "code",
   "execution_count": 275,
   "metadata": {
    "hidden": true,
    "scrolled": true
   },
   "outputs": [
    {
     "name": "stdout",
     "output_type": "stream",
     "text": [
      "Epoch: [1/5], Step: [101/782], Validation Acc: 48.2\n"
     ]
    },
    {
     "name": "stderr",
     "output_type": "stream",
     "text": [
      "/home/ark576/.conda/envs/nlp/lib/python3.6/site-packages/torch/serialization.py:241: UserWarning: Couldn't retrieve source code for container of type GRU. It won't be checked for correctness upon loading.\n",
      "  \"type \" + obj.__name__ + \". It won't be checked \"\n"
     ]
    },
    {
     "name": "stdout",
     "output_type": "stream",
     "text": [
      "Epoch: [1/5], Step: [201/782], Validation Acc: 55.7\n"
     ]
    },
    {
     "name": "stderr",
     "output_type": "stream",
     "text": [
      "/home/ark576/.conda/envs/nlp/lib/python3.6/site-packages/torch/serialization.py:241: UserWarning: Couldn't retrieve source code for container of type GRU. It won't be checked for correctness upon loading.\n",
      "  \"type \" + obj.__name__ + \". It won't be checked \"\n"
     ]
    },
    {
     "name": "stdout",
     "output_type": "stream",
     "text": [
      "Epoch: [1/5], Step: [301/782], Validation Acc: 59.7\n"
     ]
    },
    {
     "name": "stderr",
     "output_type": "stream",
     "text": [
      "/home/ark576/.conda/envs/nlp/lib/python3.6/site-packages/torch/serialization.py:241: UserWarning: Couldn't retrieve source code for container of type GRU. It won't be checked for correctness upon loading.\n",
      "  \"type \" + obj.__name__ + \". It won't be checked \"\n"
     ]
    },
    {
     "name": "stdout",
     "output_type": "stream",
     "text": [
      "Epoch: [1/5], Step: [401/782], Validation Acc: 60.4\n"
     ]
    },
    {
     "name": "stderr",
     "output_type": "stream",
     "text": [
      "/home/ark576/.conda/envs/nlp/lib/python3.6/site-packages/torch/serialization.py:241: UserWarning: Couldn't retrieve source code for container of type GRU. It won't be checked for correctness upon loading.\n",
      "  \"type \" + obj.__name__ + \". It won't be checked \"\n"
     ]
    },
    {
     "name": "stdout",
     "output_type": "stream",
     "text": [
      "Epoch: [1/5], Step: [501/782], Validation Acc: 59.8\n",
      "Epoch: [1/5], Step: [601/782], Validation Acc: 58.9\n",
      "Epoch: [1/5], Step: [701/782], Validation Acc: 64.7\n"
     ]
    },
    {
     "name": "stderr",
     "output_type": "stream",
     "text": [
      "/home/ark576/.conda/envs/nlp/lib/python3.6/site-packages/torch/serialization.py:241: UserWarning: Couldn't retrieve source code for container of type GRU. It won't be checked for correctness upon loading.\n",
      "  \"type \" + obj.__name__ + \". It won't be checked \"\n"
     ]
    },
    {
     "name": "stdout",
     "output_type": "stream",
     "text": [
      "Epoch: [2/5], Step: [101/782], Validation Acc: 65.0\n"
     ]
    },
    {
     "name": "stderr",
     "output_type": "stream",
     "text": [
      "/home/ark576/.conda/envs/nlp/lib/python3.6/site-packages/torch/serialization.py:241: UserWarning: Couldn't retrieve source code for container of type GRU. It won't be checked for correctness upon loading.\n",
      "  \"type \" + obj.__name__ + \". It won't be checked \"\n"
     ]
    },
    {
     "name": "stdout",
     "output_type": "stream",
     "text": [
      "Epoch: [2/5], Step: [201/782], Validation Acc: 65.4\n"
     ]
    },
    {
     "name": "stderr",
     "output_type": "stream",
     "text": [
      "/home/ark576/.conda/envs/nlp/lib/python3.6/site-packages/torch/serialization.py:241: UserWarning: Couldn't retrieve source code for container of type GRU. It won't be checked for correctness upon loading.\n",
      "  \"type \" + obj.__name__ + \". It won't be checked \"\n"
     ]
    },
    {
     "name": "stdout",
     "output_type": "stream",
     "text": [
      "Epoch: [2/5], Step: [301/782], Validation Acc: 64.9\n",
      "Epoch: [2/5], Step: [401/782], Validation Acc: 65.8\n"
     ]
    },
    {
     "name": "stderr",
     "output_type": "stream",
     "text": [
      "/home/ark576/.conda/envs/nlp/lib/python3.6/site-packages/torch/serialization.py:241: UserWarning: Couldn't retrieve source code for container of type GRU. It won't be checked for correctness upon loading.\n",
      "  \"type \" + obj.__name__ + \". It won't be checked \"\n"
     ]
    },
    {
     "name": "stdout",
     "output_type": "stream",
     "text": [
      "Epoch: [2/5], Step: [501/782], Validation Acc: 65.9\n"
     ]
    },
    {
     "name": "stderr",
     "output_type": "stream",
     "text": [
      "/home/ark576/.conda/envs/nlp/lib/python3.6/site-packages/torch/serialization.py:241: UserWarning: Couldn't retrieve source code for container of type GRU. It won't be checked for correctness upon loading.\n",
      "  \"type \" + obj.__name__ + \". It won't be checked \"\n"
     ]
    },
    {
     "name": "stdout",
     "output_type": "stream",
     "text": [
      "Epoch: [2/5], Step: [601/782], Validation Acc: 68.4\n"
     ]
    },
    {
     "name": "stderr",
     "output_type": "stream",
     "text": [
      "/home/ark576/.conda/envs/nlp/lib/python3.6/site-packages/torch/serialization.py:241: UserWarning: Couldn't retrieve source code for container of type GRU. It won't be checked for correctness upon loading.\n",
      "  \"type \" + obj.__name__ + \". It won't be checked \"\n"
     ]
    },
    {
     "name": "stdout",
     "output_type": "stream",
     "text": [
      "Epoch: [2/5], Step: [701/782], Validation Acc: 68.8\n"
     ]
    },
    {
     "name": "stderr",
     "output_type": "stream",
     "text": [
      "/home/ark576/.conda/envs/nlp/lib/python3.6/site-packages/torch/serialization.py:241: UserWarning: Couldn't retrieve source code for container of type GRU. It won't be checked for correctness upon loading.\n",
      "  \"type \" + obj.__name__ + \". It won't be checked \"\n"
     ]
    },
    {
     "name": "stdout",
     "output_type": "stream",
     "text": [
      "Epoch: [3/5], Step: [101/782], Validation Acc: 66.7\n",
      "Epoch: [3/5], Step: [201/782], Validation Acc: 65.3\n",
      "Epoch: [3/5], Step: [301/782], Validation Acc: 66.5\n",
      "Epoch: [3/5], Step: [401/782], Validation Acc: 66.7\n",
      "Epoch: [3/5], Step: [501/782], Validation Acc: 69.1\n"
     ]
    },
    {
     "name": "stderr",
     "output_type": "stream",
     "text": [
      "/home/ark576/.conda/envs/nlp/lib/python3.6/site-packages/torch/serialization.py:241: UserWarning: Couldn't retrieve source code for container of type GRU. It won't be checked for correctness upon loading.\n",
      "  \"type \" + obj.__name__ + \". It won't be checked \"\n"
     ]
    },
    {
     "name": "stdout",
     "output_type": "stream",
     "text": [
      "Epoch: [3/5], Step: [601/782], Validation Acc: 67.1\n",
      "Epoch: [3/5], Step: [701/782], Validation Acc: 69.5\n"
     ]
    },
    {
     "name": "stderr",
     "output_type": "stream",
     "text": [
      "/home/ark576/.conda/envs/nlp/lib/python3.6/site-packages/torch/serialization.py:241: UserWarning: Couldn't retrieve source code for container of type GRU. It won't be checked for correctness upon loading.\n",
      "  \"type \" + obj.__name__ + \". It won't be checked \"\n"
     ]
    },
    {
     "name": "stdout",
     "output_type": "stream",
     "text": [
      "Epoch: [4/5], Step: [101/782], Validation Acc: 66.1\n",
      "Epoch: [4/5], Step: [201/782], Validation Acc: 64.9\n",
      "Epoch: [4/5], Step: [301/782], Validation Acc: 66.0\n",
      "Epoch: [4/5], Step: [401/782], Validation Acc: 69.0\n",
      "Epoch: [4/5], Step: [501/782], Validation Acc: 68.0\n",
      "Epoch: [4/5], Step: [601/782], Validation Acc: 66.2\n",
      "Epoch: [4/5], Step: [701/782], Validation Acc: 68.0\n",
      "Epoch: [5/5], Step: [101/782], Validation Acc: 67.6\n",
      "Epoch: [5/5], Step: [201/782], Validation Acc: 68.3\n",
      "Epoch: [5/5], Step: [301/782], Validation Acc: 67.8\n",
      "Epoch: [5/5], Step: [401/782], Validation Acc: 66.3\n",
      "Epoch: [5/5], Step: [501/782], Validation Acc: 66.6\n",
      "Epoch: [5/5], Step: [601/782], Validation Acc: 66.9\n",
      "Epoch: [5/5], Step: [701/782], Validation Acc: 67.4\n",
      "Best Accuracy:69.5\n"
     ]
    }
   ],
   "source": [
    "gru, loss_dict_gru, acc_dict_gru, best_pred_gru = train_model(gru,criterion,optimizer,train_loader,val_loader,\\\n",
    "                                                              'gru_hd=400_t2_dp=0_max_len=50_multh_200k',num_epochs=5, val_every = 100)"
   ]
  },
  {
   "cell_type": "code",
   "execution_count": 276,
   "metadata": {
    "hidden": true
   },
   "outputs": [
    {
     "data": {
      "text/plain": [
       "<matplotlib.legend.Legend at 0x2b0fe33e56d8>"
      ]
     },
     "execution_count": 276,
     "metadata": {},
     "output_type": "execute_result"
    },
    {
     "data": {
      "image/png": "[encoded data removed]",
      "text/plain": [
       "<Figure size 432x288 with 1 Axes>"
      ]
     },
     "metadata": {
      "needs_background": "light"
     },
     "output_type": "display_data"
    }
   ],
   "source": [
    "plt.plot(acc_dict_gru['val'], label = 'Validate')\n",
    "plt.plot(acc_dict_gru['train'], label = 'Train')\n",
    "plt.xlabel('A batch iteration')\n",
    "plt.ylabel('Accuracy')\n",
    "plt.legend()"
   ]
  },
  {
   "cell_type": "code",
   "execution_count": 277,
   "metadata": {
    "hidden": true
   },
   "outputs": [
    {
     "data": {
      "text/plain": [
       "<matplotlib.legend.Legend at 0x2b0fe33b8438>"
      ]
     },
     "execution_count": 277,
     "metadata": {},
     "output_type": "execute_result"
    },
    {
     "data": {
      "image/png": "[encoded data removed]",
      "text/plain": [
       "<Figure size 432x288 with 1 Axes>"
      ]
     },
     "metadata": {
      "needs_background": "light"
     },
     "output_type": "display_data"
    }
   ],
   "source": [
    "plt.plot(loss_dict_gru['val'], label = 'Validate')\n",
    "plt.plot(loss_dict_gru['train'], label = 'Train')\n",
    "plt.xlabel('A batch iteration')\n",
    "plt.ylabel('Loss')\n",
    "plt.legend()"
   ]
  },
  {
   "cell_type": "code",
   "execution_count": 278,
   "metadata": {
    "hidden": true
   },
   "outputs": [],
   "source": [
    "best_pred_gru = unpickling('/scratch/ark576/NLP_HW_2/gru_hd=400_t2_dp=0_max_len=50_multh_200k_preds')"
   ]
  },
  {
   "cell_type": "code",
   "execution_count": 392,
   "metadata": {
    "hidden": true
   },
   "outputs": [],
   "source": [
    "correct_preds = best_pred_gru[best_pred_gru[:,1] == best_pred_gru[:,2]]"
   ]
  },
  {
   "cell_type": "code",
   "execution_count": 393,
   "metadata": {
    "hidden": true
   },
   "outputs": [],
   "source": [
    "filtered_correct_df = val_data.loc[correct_preds[:,0]]"
   ]
  },
  {
   "cell_type": "code",
   "execution_count": 405,
   "metadata": {
    "hidden": true
   },
   "outputs": [
    {
     "name": "stdout",
     "output_type": "stream",
     "text": [
      "647\n",
      "--------------------------------------------------\n",
      "Sentence 1: Three women , two wearing red shirts and one wearing a purple shirt , and a man , wearing a light blue shirt , jump on a basketball court with balls in their hands .\n",
      "Sentence 2: Three people 's are eating in hotel .\n",
      "Label: contradiction\n",
      "Predicted Label: contradiction\n",
      "==================================================\n",
      "389\n",
      "--------------------------------------------------\n",
      "Sentence 1: Two men on a basketball court one in white and red the other in blue , the player in white is throwing the ball in while teammates look on .\n",
      "Sentence 2: The men are playing basketball .\n",
      "Label: entailment\n",
      "Predicted Label: entailment\n",
      "==================================================\n",
      "479\n",
      "--------------------------------------------------\n",
      "Sentence 1: A man with an open shirt and glasses holding a microphone and another man in a bowler hat and plaid suit using a bow on an instrument .\n",
      "Sentence 2: The singer and musician are in the bathroom .\n",
      "Label: contradiction\n",
      "Predicted Label: contradiction\n",
      "==================================================\n",
      "29\n",
      "--------------------------------------------------\n",
      "Sentence 1: Three cheerful ladies sitting at a table doing a yarn work in a room , at the background are similar groups of ladies doing similar work .\n",
      "Sentence 2: The ladies are discussing what they are going to do tonight .\n",
      "Label: neutral\n",
      "Predicted Label: neutral\n",
      "==================================================\n",
      "243\n",
      "--------------------------------------------------\n",
      "Sentence 1: Older man with white hair and a red cap painting the golden gate bridge on the shore with the golden gate bridge in the distance .\n",
      "Sentence 2: A person with a cap\n",
      "Label: entailment\n",
      "Predicted Label: entailment\n",
      "==================================================\n",
      "290\n",
      "--------------------------------------------------\n",
      "Sentence 1: This crib contains a baby , stuffed animals , a box of matches , a cordless drill , a paperback novel , and a blanket .\n",
      "Sentence 2: The baby 's older sibling is very mischevious .\n",
      "Label: neutral\n",
      "Predicted Label: neutral\n",
      "==================================================\n",
      "744\n",
      "--------------------------------------------------\n",
      "Sentence 1: A young man is holding a small boy who is wearing a backpack in front of a derelict building in a poor country .\n",
      "Sentence 2: A man is touring a city with his son\n",
      "Label: neutral\n",
      "Predicted Label: neutral\n",
      "==================================================\n",
      "258\n",
      "--------------------------------------------------\n",
      "Sentence 1: A man in a red hat and blue jacket in a protest is holding up a tablet that talks about God and judgement .\n",
      "Sentence 2: The man is holding something up .\n",
      "Label: entailment\n",
      "Predicted Label: entailment\n",
      "==================================================\n",
      "663\n",
      "--------------------------------------------------\n",
      "Sentence 1: A couple dancing alfresco dressed in turquoise tops , the lady is held up in the air with her hands stretched upwards .\n",
      "Sentence 2: Tall people dancing\n",
      "Label: neutral\n",
      "Predicted Label: neutral\n",
      "==================================================\n",
      "336\n",
      "--------------------------------------------------\n",
      "Sentence 1: A man wearing black pants and jacket is on a blue scooter next to a crowd of people and a green tent .\n",
      "Sentence 2: The crowd is cheering for the man .\n",
      "Label: neutral\n",
      "Predicted Label: neutral\n",
      "==================================================\n"
     ]
    }
   ],
   "source": [
    "correct_preds_text = correct_preds.astype(str)\n",
    "correct_preds_text[correct_preds_text[:,1]=='0'] = 'contradiction'\n",
    "correct_preds_text[correct_preds_text[:,1]=='1'] = 'neutral'\n",
    "correct_preds_text[correct_preds_text[:,1]=='2'] = 'entailment'\n",
    "idx = correct_preds[:,0]\n",
    "# np.random.shuffle(idx)\n",
    "for j,i in enumerate(idx[:10]):\n",
    "    print(i)\n",
    "    print('-'*50)\n",
    "    print('Sentence 1:',filtered_correct_df.iloc[j]['sentence1'])\n",
    "    print('Sentence 2:',filtered_correct_df.iloc[j]['sentence2'])\n",
    "    print('Label:',filtered_correct_df.iloc[j]['label'] )\n",
    "    print('Predicted Label:',correct_preds_text[correct_preds[:,0] == i][0,1])\n",
    "    print('='*50)"
   ]
  },
  {
   "cell_type": "code",
   "execution_count": 401,
   "metadata": {
    "hidden": true
   },
   "outputs": [],
   "source": [
    "incorrect_preds = best_pred_gru[best_pred_gru[:,1] != best_pred_gru[:,2]]"
   ]
  },
  {
   "cell_type": "code",
   "execution_count": 402,
   "metadata": {
    "hidden": true
   },
   "outputs": [],
   "source": [
    "filtered_incorrect_df = val_data.iloc[incorrect_preds[:,0]]"
   ]
  },
  {
   "cell_type": "code",
   "execution_count": 406,
   "metadata": {
    "hidden": true
   },
   "outputs": [
    {
     "name": "stdout",
     "output_type": "stream",
     "text": [
      "903\n",
      "--------------------------------------------------\n",
      "Sentence 1: A man in a brown jacket , white shirt , and dark slacks is holding a book with his finger on the page while sitting on a wooden floor , and leaning against a yellow wall with a door on one side and cloths on hangers on the other side .\n",
      "Sentence 2: A man sits on a wooden floor building a model ship .\n",
      "Label: contradiction\n",
      "Predicted Label: neutral\n",
      "==================================================\n",
      "650\n",
      "--------------------------------------------------\n",
      "Sentence 1: A young man , without apparent protective gear , is on a bicycle jumping over small hills of sand or gravel , with a long bridge and tall buildings in the background .\n",
      "Sentence 2: A young male is riding his bicycle over small hills .\n",
      "Label: entailment\n",
      "Predicted Label: neutral\n",
      "==================================================\n",
      "431\n",
      "--------------------------------------------------\n",
      "Sentence 1: A man with a beard , curly hair and a beard wearing a green shirt and navy blue jacket standing still looking through his red sunglasses .\n",
      "Sentence 2: A man is crouched down .\n",
      "Label: contradiction\n",
      "Predicted Label: entailment\n",
      "==================================================\n",
      "119\n",
      "--------------------------------------------------\n",
      "Sentence 1: A girl in a red and white uniform tagging out a girl in a black uniform and helmet during a competitive game of softball .\n",
      "Sentence 2: Two girls are playing softball .\n",
      "Label: entailment\n",
      "Predicted Label: contradiction\n",
      "==================================================\n",
      "365\n",
      "--------------------------------------------------\n",
      "Sentence 1: A flock of birds disturbed and in flight in front of a wall that has a mural of three women and a man .\n",
      "Sentence 2: The birds fly away in surprise\n",
      "Label: neutral\n",
      "Predicted Label: contradiction\n",
      "==================================================\n",
      "70\n",
      "--------------------------------------------------\n",
      "Sentence 1: Bald man in white and black shorts , punching man with black hair , and red , orange and blue shorts .\n",
      "Sentence 2: The men are fighting over a girl .\n",
      "Label: neutral\n",
      "Predicted Label: contradiction\n",
      "==================================================\n",
      "937\n",
      "--------------------------------------------------\n",
      "Sentence 1: Two indian men are dancing in suits with an indian woman in a colorful dress behind them by a brick wall .\n",
      "Sentence 2: Some people are moving in circles .\n",
      "Label: neutral\n",
      "Predicted Label: entailment\n",
      "==================================================\n",
      "572\n",
      "--------------------------------------------------\n",
      "Sentence 1: A woman lies on a bed with a red , orange , and blue striped comforter crumpled up next to her .\n",
      "Sentence 2: A woman wakes up .\n",
      "Label: neutral\n",
      "Predicted Label: entailment\n",
      "==================================================\n",
      "335\n",
      "--------------------------------------------------\n",
      "Sentence 1: A man in a checkered shirt pushes a red bin in front of him while wearing something on his head .\n",
      "Sentence 2: The shirt is checkered .\n",
      "Label: entailment\n",
      "Predicted Label: contradiction\n",
      "==================================================\n",
      "457\n",
      "--------------------------------------------------\n",
      "Sentence 1: Three children are in the process of jumping into a pool in what appears to be a suburban backyard .\n",
      "Sentence 2: The backyard is in the front of the house .\n",
      "Label: contradiction\n",
      "Predicted Label: entailment\n",
      "==================================================\n"
     ]
    }
   ],
   "source": [
    "incorrect_preds_text = incorrect_preds.astype(str)\n",
    "incorrect_preds_text[incorrect_preds_text[:,1]=='0'] = 'contradiction'\n",
    "incorrect_preds_text[incorrect_preds_text[:,1]=='1'] = 'neutral'\n",
    "incorrect_preds_text[incorrect_preds_text[:,1]=='2'] = 'entailment'\n",
    "idx = incorrect_preds[:,0]\n",
    "# np.random.shuffle(idx)\n",
    "for j,i in enumerate(idx[:10]):\n",
    "    print(i)\n",
    "    print('-'*50)\n",
    "    print('Sentence 1:',filtered_incorrect_df.iloc[j]['sentence1'])\n",
    "    print('Sentence 2:',filtered_incorrect_df.iloc[j]['sentence2'])\n",
    "    print('Label:',filtered_incorrect_df.iloc[j]['label'] )\n",
    "    print('Predicted Label:',incorrect_preds_text[incorrect_preds[:,0] == i][0,1])\n",
    "    print('='*50)"
   ]
  },
  {
   "cell_type": "markdown",
   "metadata": {
    "heading_collapsed": true
   },
   "source": [
    "# Pretraining the CNN model"
   ]
  },
  {
   "cell_type": "code",
   "execution_count": 407,
   "metadata": {
    "hidden": true
   },
   "outputs": [],
   "source": [
    "cnn = CNN(500,3).cuda()"
   ]
  },
  {
   "cell_type": "code",
   "execution_count": 408,
   "metadata": {
    "hidden": true
   },
   "outputs": [],
   "source": [
    "optimizer = optim.Adam(cnn.parameters(), lr = 1e-3)"
   ]
  },
  {
   "cell_type": "code",
   "execution_count": 409,
   "metadata": {
    "hidden": true
   },
   "outputs": [],
   "source": [
    "criterion = nn.CrossEntropyLoss()"
   ]
  },
  {
   "cell_type": "code",
   "execution_count": 411,
   "metadata": {
    "hidden": true,
    "scrolled": true
   },
   "outputs": [
    {
     "name": "stdout",
     "output_type": "stream",
     "text": [
      "Epoch: [1/7], Step: [101/782], Validation Acc: 52.0\n"
     ]
    },
    {
     "name": "stderr",
     "output_type": "stream",
     "text": [
      "/home/ark576/.conda/envs/nlp/lib/python3.6/site-packages/torch/serialization.py:241: UserWarning: Couldn't retrieve source code for container of type CNN. It won't be checked for correctness upon loading.\n",
      "  \"type \" + obj.__name__ + \". It won't be checked \"\n"
     ]
    },
    {
     "name": "stdout",
     "output_type": "stream",
     "text": [
      "Epoch: [1/7], Step: [201/782], Validation Acc: 55.8\n"
     ]
    },
    {
     "name": "stderr",
     "output_type": "stream",
     "text": [
      "/home/ark576/.conda/envs/nlp/lib/python3.6/site-packages/torch/serialization.py:241: UserWarning: Couldn't retrieve source code for container of type CNN. It won't be checked for correctness upon loading.\n",
      "  \"type \" + obj.__name__ + \". It won't be checked \"\n"
     ]
    },
    {
     "name": "stdout",
     "output_type": "stream",
     "text": [
      "Epoch: [1/7], Step: [301/782], Validation Acc: 56.7\n"
     ]
    },
    {
     "name": "stderr",
     "output_type": "stream",
     "text": [
      "/home/ark576/.conda/envs/nlp/lib/python3.6/site-packages/torch/serialization.py:241: UserWarning: Couldn't retrieve source code for container of type CNN. It won't be checked for correctness upon loading.\n",
      "  \"type \" + obj.__name__ + \". It won't be checked \"\n"
     ]
    },
    {
     "name": "stdout",
     "output_type": "stream",
     "text": [
      "Epoch: [1/7], Step: [401/782], Validation Acc: 59.1\n"
     ]
    },
    {
     "name": "stderr",
     "output_type": "stream",
     "text": [
      "/home/ark576/.conda/envs/nlp/lib/python3.6/site-packages/torch/serialization.py:241: UserWarning: Couldn't retrieve source code for container of type CNN. It won't be checked for correctness upon loading.\n",
      "  \"type \" + obj.__name__ + \". It won't be checked \"\n"
     ]
    },
    {
     "name": "stdout",
     "output_type": "stream",
     "text": [
      "Epoch: [1/7], Step: [501/782], Validation Acc: 60.5\n"
     ]
    },
    {
     "name": "stderr",
     "output_type": "stream",
     "text": [
      "/home/ark576/.conda/envs/nlp/lib/python3.6/site-packages/torch/serialization.py:241: UserWarning: Couldn't retrieve source code for container of type CNN. It won't be checked for correctness upon loading.\n",
      "  \"type \" + obj.__name__ + \". It won't be checked \"\n"
     ]
    },
    {
     "name": "stdout",
     "output_type": "stream",
     "text": [
      "Epoch: [1/7], Step: [601/782], Validation Acc: 59.4\n",
      "Epoch: [1/7], Step: [701/782], Validation Acc: 61.7\n"
     ]
    },
    {
     "name": "stderr",
     "output_type": "stream",
     "text": [
      "/home/ark576/.conda/envs/nlp/lib/python3.6/site-packages/torch/serialization.py:241: UserWarning: Couldn't retrieve source code for container of type CNN. It won't be checked for correctness upon loading.\n",
      "  \"type \" + obj.__name__ + \". It won't be checked \"\n"
     ]
    },
    {
     "name": "stdout",
     "output_type": "stream",
     "text": [
      "Epoch: [2/7], Step: [101/782], Validation Acc: 58.8\n",
      "Epoch: [2/7], Step: [201/782], Validation Acc: 60.1\n",
      "Epoch: [2/7], Step: [301/782], Validation Acc: 62.2\n"
     ]
    },
    {
     "name": "stderr",
     "output_type": "stream",
     "text": [
      "/home/ark576/.conda/envs/nlp/lib/python3.6/site-packages/torch/serialization.py:241: UserWarning: Couldn't retrieve source code for container of type CNN. It won't be checked for correctness upon loading.\n",
      "  \"type \" + obj.__name__ + \". It won't be checked \"\n"
     ]
    },
    {
     "name": "stdout",
     "output_type": "stream",
     "text": [
      "Epoch: [2/7], Step: [401/782], Validation Acc: 62.7\n"
     ]
    },
    {
     "name": "stderr",
     "output_type": "stream",
     "text": [
      "/home/ark576/.conda/envs/nlp/lib/python3.6/site-packages/torch/serialization.py:241: UserWarning: Couldn't retrieve source code for container of type CNN. It won't be checked for correctness upon loading.\n",
      "  \"type \" + obj.__name__ + \". It won't be checked \"\n"
     ]
    },
    {
     "name": "stdout",
     "output_type": "stream",
     "text": [
      "Epoch: [2/7], Step: [501/782], Validation Acc: 61.1\n",
      "Epoch: [2/7], Step: [601/782], Validation Acc: 62.6\n",
      "Epoch: [2/7], Step: [701/782], Validation Acc: 62.3\n",
      "Epoch: [3/7], Step: [101/782], Validation Acc: 63.3\n"
     ]
    },
    {
     "name": "stderr",
     "output_type": "stream",
     "text": [
      "/home/ark576/.conda/envs/nlp/lib/python3.6/site-packages/torch/serialization.py:241: UserWarning: Couldn't retrieve source code for container of type CNN. It won't be checked for correctness upon loading.\n",
      "  \"type \" + obj.__name__ + \". It won't be checked \"\n"
     ]
    },
    {
     "name": "stdout",
     "output_type": "stream",
     "text": [
      "Epoch: [3/7], Step: [201/782], Validation Acc: 63.1\n",
      "Epoch: [3/7], Step: [301/782], Validation Acc: 62.8\n",
      "Epoch: [3/7], Step: [401/782], Validation Acc: 61.9\n",
      "Epoch: [3/7], Step: [501/782], Validation Acc: 62.0\n",
      "Epoch: [3/7], Step: [601/782], Validation Acc: 63.6\n"
     ]
    },
    {
     "name": "stderr",
     "output_type": "stream",
     "text": [
      "/home/ark576/.conda/envs/nlp/lib/python3.6/site-packages/torch/serialization.py:241: UserWarning: Couldn't retrieve source code for container of type CNN. It won't be checked for correctness upon loading.\n",
      "  \"type \" + obj.__name__ + \". It won't be checked \"\n"
     ]
    },
    {
     "name": "stdout",
     "output_type": "stream",
     "text": [
      "Epoch: [3/7], Step: [701/782], Validation Acc: 63.9\n"
     ]
    },
    {
     "name": "stderr",
     "output_type": "stream",
     "text": [
      "/home/ark576/.conda/envs/nlp/lib/python3.6/site-packages/torch/serialization.py:241: UserWarning: Couldn't retrieve source code for container of type CNN. It won't be checked for correctness upon loading.\n",
      "  \"type \" + obj.__name__ + \". It won't be checked \"\n"
     ]
    },
    {
     "name": "stdout",
     "output_type": "stream",
     "text": [
      "Epoch: [4/7], Step: [101/782], Validation Acc: 65.2\n"
     ]
    },
    {
     "name": "stderr",
     "output_type": "stream",
     "text": [
      "/home/ark576/.conda/envs/nlp/lib/python3.6/site-packages/torch/serialization.py:241: UserWarning: Couldn't retrieve source code for container of type CNN. It won't be checked for correctness upon loading.\n",
      "  \"type \" + obj.__name__ + \". It won't be checked \"\n"
     ]
    },
    {
     "name": "stdout",
     "output_type": "stream",
     "text": [
      "Epoch: [4/7], Step: [201/782], Validation Acc: 63.2\n",
      "Epoch: [4/7], Step: [301/782], Validation Acc: 64.7\n",
      "Epoch: [4/7], Step: [401/782], Validation Acc: 65.1\n",
      "Epoch: [4/7], Step: [501/782], Validation Acc: 61.8\n",
      "Epoch: [4/7], Step: [601/782], Validation Acc: 64.9\n",
      "Epoch: [4/7], Step: [701/782], Validation Acc: 64.7\n",
      "Epoch: [5/7], Step: [101/782], Validation Acc: 62.9\n",
      "Epoch: [5/7], Step: [201/782], Validation Acc: 63.1\n",
      "Epoch: [5/7], Step: [301/782], Validation Acc: 62.8\n",
      "Epoch: [5/7], Step: [401/782], Validation Acc: 64.3\n",
      "Epoch: [5/7], Step: [501/782], Validation Acc: 63.6\n",
      "Epoch: [5/7], Step: [601/782], Validation Acc: 65.3\n"
     ]
    },
    {
     "name": "stderr",
     "output_type": "stream",
     "text": [
      "/home/ark576/.conda/envs/nlp/lib/python3.6/site-packages/torch/serialization.py:241: UserWarning: Couldn't retrieve source code for container of type CNN. It won't be checked for correctness upon loading.\n",
      "  \"type \" + obj.__name__ + \". It won't be checked \"\n"
     ]
    },
    {
     "name": "stdout",
     "output_type": "stream",
     "text": [
      "Epoch: [5/7], Step: [701/782], Validation Acc: 66.3\n"
     ]
    },
    {
     "name": "stderr",
     "output_type": "stream",
     "text": [
      "/home/ark576/.conda/envs/nlp/lib/python3.6/site-packages/torch/serialization.py:241: UserWarning: Couldn't retrieve source code for container of type CNN. It won't be checked for correctness upon loading.\n",
      "  \"type \" + obj.__name__ + \". It won't be checked \"\n"
     ]
    },
    {
     "name": "stdout",
     "output_type": "stream",
     "text": [
      "Epoch: [6/7], Step: [101/782], Validation Acc: 63.5\n",
      "Epoch: [6/7], Step: [201/782], Validation Acc: 63.0\n",
      "Epoch: [6/7], Step: [301/782], Validation Acc: 65.0\n",
      "Epoch: [6/7], Step: [401/782], Validation Acc: 65.1\n",
      "Epoch: [6/7], Step: [501/782], Validation Acc: 64.7\n",
      "Epoch: [6/7], Step: [601/782], Validation Acc: 65.0\n",
      "Epoch: [6/7], Step: [701/782], Validation Acc: 65.3\n",
      "Epoch: [7/7], Step: [101/782], Validation Acc: 63.2\n",
      "Epoch: [7/7], Step: [201/782], Validation Acc: 64.1\n",
      "Epoch: [7/7], Step: [301/782], Validation Acc: 64.0\n",
      "Epoch: [7/7], Step: [401/782], Validation Acc: 64.9\n",
      "Epoch: [7/7], Step: [501/782], Validation Acc: 64.8\n",
      "Epoch: [7/7], Step: [601/782], Validation Acc: 64.5\n",
      "Epoch: [7/7], Step: [701/782], Validation Acc: 65.6\n",
      "Best Accuracy:66.3\n"
     ]
    }
   ],
   "source": [
    "cnn, loss_dict_gru, acc_dict_gru, best_pred_gru = train_model(cnn,criterion,optimizer,train_loader,val_loader,\\\n",
    "                                                              'cnn_hd=500_ks=3_cath_200k',num_epochs=7, val_every = 100)"
   ]
  },
  {
   "cell_type": "code",
   "execution_count": 412,
   "metadata": {
    "hidden": true
   },
   "outputs": [
    {
     "data": {
      "text/plain": [
       "<matplotlib.legend.Legend at 0x2b0fe37cd668>"
      ]
     },
     "execution_count": 412,
     "metadata": {},
     "output_type": "execute_result"
    },
    {
     "data": {
      "image/png": "[encoded data removed]",
      "text/plain": [
       "<Figure size 432x288 with 1 Axes>"
      ]
     },
     "metadata": {
      "needs_background": "light"
     },
     "output_type": "display_data"
    }
   ],
   "source": [
    "plt.plot(acc_dict_gru['val'], label = 'Validate')\n",
    "plt.plot(acc_dict_gru['train'], label = 'Train')\n",
    "plt.xlabel('A batch iteration')\n",
    "plt.ylabel('Accuracy')\n",
    "plt.legend()"
   ]
  },
  {
   "cell_type": "code",
   "execution_count": 413,
   "metadata": {
    "hidden": true
   },
   "outputs": [
    {
     "data": {
      "text/plain": [
       "<matplotlib.legend.Legend at 0x2b0fe3795ac8>"
      ]
     },
     "execution_count": 413,
     "metadata": {},
     "output_type": "execute_result"
    },
    {
     "data": {
      "image/png": "[encoded data removed]",
      "text/plain": [
       "<Figure size 432x288 with 1 Axes>"
      ]
     },
     "metadata": {
      "needs_background": "light"
     },
     "output_type": "display_data"
    }
   ],
   "source": [
    "plt.plot(loss_dict_gru['val'], label = 'Validate')\n",
    "plt.plot(loss_dict_gru['train'], label = 'Train')\n",
    "plt.xlabel('A batch iteration')\n",
    "plt.ylabel('Loss')\n",
    "plt.legend()"
   ]
  },
  {
   "cell_type": "code",
   "execution_count": 414,
   "metadata": {
    "hidden": true
   },
   "outputs": [],
   "source": [
    "best_pred_cnn = unpickling('/scratch/ark576/NLP_HW_2/cnn_hd=500_ks=3_cath_200k_preds')"
   ]
  },
  {
   "cell_type": "code",
   "execution_count": 415,
   "metadata": {
    "hidden": true
   },
   "outputs": [],
   "source": [
    "correct_preds = best_pred_gru[best_pred_gru[:,1] == best_pred_gru[:,2]]"
   ]
  },
  {
   "cell_type": "code",
   "execution_count": 416,
   "metadata": {
    "hidden": true
   },
   "outputs": [],
   "source": [
    "filtered_correct_df = val_data.loc[correct_preds[:,0]]"
   ]
  },
  {
   "cell_type": "code",
   "execution_count": 417,
   "metadata": {
    "hidden": true
   },
   "outputs": [
    {
     "name": "stdout",
     "output_type": "stream",
     "text": [
      "366\n",
      "--------------------------------------------------\n",
      "Sentence 1: An Asian man is standing on a rusty dock surrounded by ropes and tires and is sticking a fishing pole into the water in front of him .\n",
      "Sentence 2: A fisherman is working hard on the dock\n",
      "Label: neutral\n",
      "Predicted Label: neutral\n",
      "==================================================\n",
      "223\n",
      "--------------------------------------------------\n",
      "Sentence 1: As a referee looks on , a Los Angeles baseball player is falling over the top of a rival player who is just sliding into base .\n",
      "Sentence 2: The people are playing basketball .\n",
      "Label: contradiction\n",
      "Predicted Label: contradiction\n",
      "==================================================\n",
      "29\n",
      "--------------------------------------------------\n",
      "Sentence 1: Three cheerful ladies sitting at a table doing a yarn work in a room , at the background are similar groups of ladies doing similar work .\n",
      "Sentence 2: The ladies are discussing what they are going to do tonight .\n",
      "Label: neutral\n",
      "Predicted Label: neutral\n",
      "==================================================\n",
      "741\n",
      "--------------------------------------------------\n",
      "Sentence 1: Woman in light blue knit hat and light blue zippered jacket kneels in front of a bowl of liquid and small bottle .\n",
      "Sentence 2: A woman in a jacket kneels by a bowl and small bottle .\n",
      "Label: entailment\n",
      "Predicted Label: entailment\n",
      "==================================================\n",
      "44\n",
      "--------------------------------------------------\n",
      "Sentence 1: A woman seated indoors wearing glasses , an orange shirt , jeans and sandals is eating from a container in her hand .\n",
      "Sentence 2: A woman waits for her husband to come home for dinner .\n",
      "Label: neutral\n",
      "Predicted Label: neutral\n",
      "==================================================\n",
      "261\n",
      "--------------------------------------------------\n",
      "Sentence 1: Military troops are gathered together and some are using tongs to turn over a variety of food on grill racks over coals .\n",
      "Sentence 2: A boy is walking around\n",
      "Label: contradiction\n",
      "Predicted Label: contradiction\n",
      "==================================================\n",
      "759\n",
      "--------------------------------------------------\n",
      "Sentence 1: A man with an orange jacket , takes the photo of four women , and a man in a greenish yellow suite .\n",
      "Sentence 2: A man is photographing five people .\n",
      "Label: entailment\n",
      "Predicted Label: entailment\n",
      "==================================================\n",
      "413\n",
      "--------------------------------------------------\n",
      "Sentence 1: A little boy wearing a blue stiped shirt has a party hat on his head and is playing in a puddle .\n",
      "Sentence 2: The little boy is doing a dance in the puddle .\n",
      "Label: neutral\n",
      "Predicted Label: neutral\n",
      "==================================================\n",
      "159\n",
      "--------------------------------------------------\n",
      "Sentence 1: A man in a striped shirt and lady in a black hat are watching a young band perform on stage .\n",
      "Sentence 2: A lady has a white hat .\n",
      "Label: contradiction\n",
      "Predicted Label: contradiction\n",
      "==================================================\n",
      "627\n",
      "--------------------------------------------------\n",
      "Sentence 1: A group of Asian children are gathered around in a circle listening to an older male in a white shirt .\n",
      "Sentence 2: A male is telling some asian kids a story about the lion king\n",
      "Label: neutral\n",
      "Predicted Label: neutral\n",
      "==================================================\n"
     ]
    }
   ],
   "source": [
    "correct_preds_text = correct_preds.astype(str)\n",
    "correct_preds_text[correct_preds_text[:,1]=='0'] = 'contradiction'\n",
    "correct_preds_text[correct_preds_text[:,1]=='1'] = 'neutral'\n",
    "correct_preds_text[correct_preds_text[:,1]=='2'] = 'entailment'\n",
    "idx = correct_preds[:,0]\n",
    "# np.random.shuffle(idx)\n",
    "for j,i in enumerate(idx[:10]):\n",
    "    print(i)\n",
    "    print('-'*50)\n",
    "    print('Sentence 1:',filtered_correct_df.iloc[j]['sentence1'])\n",
    "    print('Sentence 2:',filtered_correct_df.iloc[j]['sentence2'])\n",
    "    print('Label:',filtered_correct_df.iloc[j]['label'] )\n",
    "    print('Predicted Label:',correct_preds_text[correct_preds[:,0] == i][0,1])\n",
    "    print('='*50)"
   ]
  },
  {
   "cell_type": "code",
   "execution_count": 418,
   "metadata": {
    "hidden": true
   },
   "outputs": [],
   "source": [
    "incorrect_preds = best_pred_gru[best_pred_gru[:,1] != best_pred_gru[:,2]]"
   ]
  },
  {
   "cell_type": "code",
   "execution_count": 419,
   "metadata": {
    "hidden": true
   },
   "outputs": [],
   "source": [
    "filtered_incorrect_df = val_data.iloc[incorrect_preds[:,0]]"
   ]
  },
  {
   "cell_type": "code",
   "execution_count": 420,
   "metadata": {
    "hidden": true
   },
   "outputs": [
    {
     "name": "stdout",
     "output_type": "stream",
     "text": [
      "783\n",
      "--------------------------------------------------\n",
      "Sentence 1: A kid in a red and black coat is laying on his back in the snow with his arm in the air and a red sled is next to him .\n",
      "Sentence 2: It is a cold day .\n",
      "Label: entailment\n",
      "Predicted Label: neutral\n",
      "==================================================\n",
      "17\n",
      "--------------------------------------------------\n",
      "Sentence 1: A group of people dressed in Santa Claus suits are looking towards an audience while a DJ runs a sound board and another person throws green balls into the air .\n",
      "Sentence 2: A band plays at a beach party .\n",
      "Label: neutral\n",
      "Predicted Label: contradiction\n",
      "==================================================\n",
      "913\n",
      "--------------------------------------------------\n",
      "Sentence 1: Three sisters , barefoot in pink dresses and who range in age from preschool to teenager are pictured on a beach as they look out at the Ocean .\n",
      "Sentence 2: Three sisters , barefoot in pink dresses and who range in age from preschool to teenager\n",
      "Label: entailment\n",
      "Predicted Label: contradiction\n",
      "==================================================\n",
      "629\n",
      "--------------------------------------------------\n",
      "Sentence 1: At an outdoor event in an Asian-themed area , a crowd congregates as one person in a yellow Chinese dragon costume confronts the camera .\n",
      "Sentence 2: A crowd is dancing\n",
      "Label: neutral\n",
      "Predicted Label: contradiction\n",
      "==================================================\n",
      "684\n",
      "--------------------------------------------------\n",
      "Sentence 1: A girl in a green jersey top and blue shorts is getting ready to kick the soccer ball near the goal .\n",
      "Sentence 2: a girl wants to score a goal\n",
      "Label: entailment\n",
      "Predicted Label: neutral\n",
      "==================================================\n",
      "937\n",
      "--------------------------------------------------\n",
      "Sentence 1: Two indian men are dancing in suits with an indian woman in a colorful dress behind them by a brick wall .\n",
      "Sentence 2: Some people are moving in circles .\n",
      "Label: neutral\n",
      "Predicted Label: entailment\n",
      "==================================================\n",
      "221\n",
      "--------------------------------------------------\n",
      "Sentence 1: A group of people plays a game on the floor of a living room while a TV plays in the background .\n",
      "Sentence 2: A group of people plays a fun game on the floor of a living room .\n",
      "Label: entailment\n",
      "Predicted Label: neutral\n",
      "==================================================\n",
      "244\n",
      "--------------------------------------------------\n",
      "Sentence 1: A man stands on the sidewalk near a lamp post as well as a pillar forming part of an edifice .\n",
      "Sentence 2: The man is on a ship .\n",
      "Label: contradiction\n",
      "Predicted Label: entailment\n",
      "==================================================\n",
      "79\n",
      "--------------------------------------------------\n",
      "Sentence 1: A man in a striped shirt and lady in a black hat are watching a young band perform on stage .\n",
      "Sentence 2: A lady has a black hat .\n",
      "Label: entailment\n",
      "Predicted Label: contradiction\n",
      "==================================================\n",
      "840\n",
      "--------------------------------------------------\n",
      "Sentence 1: on a snowy day a man with a north face jacket walks through the crowded streets past a garbage truck\n",
      "Sentence 2: The garbage man is handing out icicles .\n",
      "Label: contradiction\n",
      "Predicted Label: neutral\n",
      "==================================================\n"
     ]
    }
   ],
   "source": [
    "incorrect_preds_text = incorrect_preds.astype(str)\n",
    "incorrect_preds_text[incorrect_preds_text[:,1]=='0'] = 'contradiction'\n",
    "incorrect_preds_text[incorrect_preds_text[:,1]=='1'] = 'neutral'\n",
    "incorrect_preds_text[incorrect_preds_text[:,1]=='2'] = 'entailment'\n",
    "idx = incorrect_preds[:,0]\n",
    "# np.random.shuffle(idx)\n",
    "for j,i in enumerate(idx[:10]):\n",
    "    print(i)\n",
    "    print('-'*50)\n",
    "    print('Sentence 1:',filtered_incorrect_df.iloc[j]['sentence1'])\n",
    "    print('Sentence 2:',filtered_incorrect_df.iloc[j]['sentence2'])\n",
    "    print('Label:',filtered_incorrect_df.iloc[j]['label'] )\n",
    "    print('Predicted Label:',incorrect_preds_text[incorrect_preds[:,0] == i][0,1])\n",
    "    print('='*50)"
   ]
  },
  {
   "cell_type": "markdown",
   "metadata": {
    "heading_collapsed": true
   },
   "source": [
    "# Testing the best model on the MNLI data set"
   ]
  },
  {
   "cell_type": "code",
   "execution_count": 61,
   "metadata": {
    "hidden": true
   },
   "outputs": [],
   "source": [
    "train_data = pd.read_csv('mnli_train.tsv',sep = '\\t')\n",
    "val_data = pd.read_csv('mnli_val.tsv',sep = '\\t')"
   ]
  },
  {
   "cell_type": "code",
   "execution_count": 62,
   "metadata": {
    "hidden": true
   },
   "outputs": [
    {
     "name": "stdout",
     "output_type": "stream",
     "text": [
      "Tokenizing Sentence\n",
      "Tokenizing finished, saving the lengths of sentences\n",
      "Lenghts saved, Converting tokens to idx\n",
      "Conversion completed, Mapping Labels to int\n",
      "Tokenizing Sentence\n",
      "Tokenizing finished, saving the lengths of sentences\n",
      "Lenghts saved, Converting tokens to idx\n",
      "Conversion completed, Mapping Labels to int\n"
     ]
    }
   ],
   "source": [
    "train_data = preprocess_data_set(train_data)\n",
    "val_data = preprocess_data_set(val_data)"
   ]
  },
  {
   "cell_type": "code",
   "execution_count": 63,
   "metadata": {
    "hidden": true
   },
   "outputs": [],
   "source": [
    "genre = np.unique(val_data['genre'])\n",
    "val_data_loaders = []\n",
    "train_data_loaders = []\n",
    "for g in genre:\n",
    "    train_dataset = SNLI(train_data[train_data['genre'] == g])\n",
    "    train_loader = torch.utils.data.DataLoader(dataset=train_dataset, \n",
    "                                           batch_size=BATCH_SIZE,\n",
    "                                           collate_fn=SNLI_collate_func,\n",
    "                                           shuffle=True)\n",
    "    val_dataset = SNLI(val_data[val_data['genre'] == g])\n",
    "    val_loader = torch.utils.data.DataLoader(dataset=val_dataset, \n",
    "                                               batch_size=BATCH_SIZE,\n",
    "                                               collate_fn=SNLI_collate_func,\n",
    "                                               shuffle=True)\n",
    "    val_data_loaders.append(val_loader)\n",
    "    train_data_loaders.append(train_loader)\n",
    "\n",
    "# for i, (data, lengths, labels) in enumerate(train_loader):\n",
    "#    print (data)\n",
    "#    print (labels)\n",
    "#    break"
   ]
  },
  {
   "cell_type": "markdown",
   "metadata": {
    "heading_collapsed": true
   },
   "source": [
    "# Validating the pretrained GRU model in MNLI val data set"
   ]
  },
  {
   "cell_type": "code",
   "execution_count": 37,
   "metadata": {
    "hidden": true
   },
   "outputs": [],
   "source": [
    "best_model = torch.load('/scratch/ark576/NLP_HW_2/gru_hd=400_t2_dp=0_max_len=50_cath')"
   ]
  },
  {
   "cell_type": "code",
   "execution_count": 38,
   "metadata": {
    "hidden": true
   },
   "outputs": [],
   "source": [
    "criterion = nn.CrossEntropyLoss()"
   ]
  },
  {
   "cell_type": "code",
   "execution_count": 39,
   "metadata": {
    "hidden": true
   },
   "outputs": [
    {
     "name": "stderr",
     "output_type": "stream",
     "text": [
      "/home/ark576/.conda/envs/nlp/lib/python3.6/site-packages/ipykernel_launcher.py:34: UserWarning: RNN module weights are not part of single contiguous chunk of memory. This means they need to be compacted at every call, possibly greatly increasing memory usage. To compact weights again call flatten_parameters().\n",
      "/home/ark576/.conda/envs/nlp/lib/python3.6/site-packages/ipykernel_launcher.py:35: UserWarning: RNN module weights are not part of single contiguous chunk of memory. This means they need to be compacted at every call, possibly greatly increasing memory usage. To compact weights again call flatten_parameters().\n"
     ]
    }
   ],
   "source": [
    "acc_list = []\n",
    "loss_list = []\n",
    "pred_list = []\n",
    "for v in val_data_loaders:\n",
    "    temp_acc, temp_loss, temp_pred = test_model(v,best_model,criterion)\n",
    "    acc_list.append(temp_acc)\n",
    "    loss_list.append(temp_loss)\n",
    "    pred_list.append(temp_pred)"
   ]
  },
  {
   "cell_type": "code",
   "execution_count": 40,
   "metadata": {
    "hidden": true
   },
   "outputs": [
    {
     "data": {
      "text/plain": [
       "[42.51256281407035,\n",
       " 40.846456692913385,\n",
       " 40.41916167664671,\n",
       " 39.004975124378106,\n",
       " 38.085539714867615]"
      ]
     },
     "execution_count": 40,
     "metadata": {},
     "output_type": "execute_result"
    }
   ],
   "source": [
    "acc_list"
   ]
  },
  {
   "cell_type": "markdown",
   "metadata": {
    "heading_collapsed": true
   },
   "source": [
    "# Validating the pretrained CNN model in MNLI val data set"
   ]
  },
  {
   "cell_type": "code",
   "execution_count": 42,
   "metadata": {
    "hidden": true
   },
   "outputs": [],
   "source": [
    "best_cnn_model = torch.load('/scratch/ark576/NLP_HW_2/cnn_hd=500_ks=3_cath')"
   ]
  },
  {
   "cell_type": "code",
   "execution_count": 43,
   "metadata": {
    "hidden": true
   },
   "outputs": [],
   "source": [
    "criterion = nn.CrossEntropyLoss()"
   ]
  },
  {
   "cell_type": "code",
   "execution_count": 46,
   "metadata": {
    "hidden": true
   },
   "outputs": [],
   "source": [
    "acc_list = []\n",
    "loss_list = []\n",
    "pred_list = []\n",
    "for v in val_data_loaders:\n",
    "    temp_acc, temp_loss, temp_pred = test_model(v,best_cnn_model,criterion)\n",
    "    acc_list.append(temp_acc)\n",
    "    loss_list.append(temp_loss)\n",
    "    pred_list.append(temp_pred)"
   ]
  },
  {
   "cell_type": "code",
   "execution_count": 47,
   "metadata": {
    "hidden": true
   },
   "outputs": [
    {
     "data": {
      "text/plain": [
       "[41.4070351758794,\n",
       " 45.07874015748032,\n",
       " 41.21756487025948,\n",
       " 41.29353233830846,\n",
       " 43.58452138492871]"
      ]
     },
     "execution_count": 47,
     "metadata": {},
     "output_type": "execute_result"
    }
   ],
   "source": [
    "acc_list"
   ]
  },
  {
   "cell_type": "markdown",
   "metadata": {
    "heading_collapsed": true
   },
   "source": [
    "# Fine-tuning the model (CNN) (fiction)"
   ]
  },
  {
   "cell_type": "code",
   "execution_count": 97,
   "metadata": {
    "hidden": true
   },
   "outputs": [],
   "source": [
    "cnn = torch.load('/scratch/ark576/NLP_HW_2/cnn_hd=500_ks=3_cath_200k')"
   ]
  },
  {
   "cell_type": "code",
   "execution_count": 98,
   "metadata": {
    "hidden": true
   },
   "outputs": [],
   "source": [
    "optimizer = optim.Adam(filter(lambda p: p.requires_grad, cnn.parameters()), lr = 1e-3)"
   ]
  },
  {
   "cell_type": "code",
   "execution_count": 99,
   "metadata": {
    "hidden": true
   },
   "outputs": [],
   "source": [
    "criterion = nn.CrossEntropyLoss()"
   ]
  },
  {
   "cell_type": "code",
   "execution_count": 101,
   "metadata": {
    "hidden": true,
    "scrolled": true
   },
   "outputs": [
    {
     "name": "stdout",
     "output_type": "stream",
     "text": [
      "Epoch: [1/3], Step: [4/30], Validation Acc: 47.03517587939699\n",
      "Epoch: [1/3], Step: [7/30], Validation Acc: 46.53266331658291\n",
      "Epoch: [1/3], Step: [10/30], Validation Acc: 47.23618090452261\n",
      "Epoch: [1/3], Step: [13/30], Validation Acc: 47.336683417085425\n",
      "Epoch: [1/3], Step: [16/30], Validation Acc: 45.62814070351759\n",
      "Epoch: [1/3], Step: [19/30], Validation Acc: 44.52261306532663\n",
      "Epoch: [1/3], Step: [22/30], Validation Acc: 45.02512562814071\n",
      "Epoch: [1/3], Step: [25/30], Validation Acc: 45.7286432160804\n",
      "Epoch: [1/3], Step: [28/30], Validation Acc: 46.030150753768844\n",
      "Epoch: [2/3], Step: [4/30], Validation Acc: 45.32663316582914\n",
      "Epoch: [2/3], Step: [7/30], Validation Acc: 45.22613065326633\n",
      "Epoch: [2/3], Step: [10/30], Validation Acc: 44.92462311557789\n",
      "Epoch: [2/3], Step: [13/30], Validation Acc: 45.32663316582914\n",
      "Epoch: [2/3], Step: [16/30], Validation Acc: 45.42713567839196\n",
      "Epoch: [2/3], Step: [19/30], Validation Acc: 44.824120603015075\n",
      "Epoch: [2/3], Step: [22/30], Validation Acc: 43.71859296482412\n",
      "Epoch: [2/3], Step: [25/30], Validation Acc: 43.618090452261306\n",
      "Epoch: [2/3], Step: [28/30], Validation Acc: 43.81909547738694\n",
      "Epoch: [3/3], Step: [4/30], Validation Acc: 43.71859296482412\n",
      "Epoch: [3/3], Step: [7/30], Validation Acc: 43.618090452261306\n",
      "Epoch: [3/3], Step: [10/30], Validation Acc: 42.311557788944725\n",
      "Epoch: [3/3], Step: [13/30], Validation Acc: 43.91959798994975\n",
      "Epoch: [3/3], Step: [16/30], Validation Acc: 43.11557788944724\n",
      "Epoch: [3/3], Step: [19/30], Validation Acc: 42.814070351758794\n",
      "Epoch: [3/3], Step: [22/30], Validation Acc: 43.81909547738694\n",
      "Epoch: [3/3], Step: [25/30], Validation Acc: 43.21608040201005\n",
      "Epoch: [3/3], Step: [28/30], Validation Acc: 43.41708542713568\n",
      "Best Accuracy:47.336683417085425\n"
     ]
    }
   ],
   "source": [
    "cnn, loss_dict_gru, acc_dict_gru, best_pred_gru = train_model(cnn,criterion,optimizer,train_data_loaders[0],\\\n",
    "                                                              val_data_loaders[0],'cnn_hd=500_ks=3_cath_200k_ft_fic',num_epochs=6)"
   ]
  },
  {
   "cell_type": "code",
   "execution_count": 102,
   "metadata": {
    "hidden": true
   },
   "outputs": [
    {
     "data": {
      "text/plain": [
       "<matplotlib.legend.Legend at 0x2b1002333c50>"
      ]
     },
     "execution_count": 102,
     "metadata": {},
     "output_type": "execute_result"
    },
    {
     "data": {
      "image/png": "[encoded data removed]",
      "text/plain": [
       "<Figure size 432x288 with 1 Axes>"
      ]
     },
     "metadata": {
      "needs_background": "light"
     },
     "output_type": "display_data"
    }
   ],
   "source": [
    "plt.plot(acc_dict_gru['val'], label = 'Validate')\n",
    "plt.plot(acc_dict_gru['train'], label = 'Train')\n",
    "plt.xlabel('A batch iteration')\n",
    "plt.ylabel('Accuracy')\n",
    "plt.legend()"
   ]
  },
  {
   "cell_type": "code",
   "execution_count": 103,
   "metadata": {
    "hidden": true
   },
   "outputs": [
    {
     "data": {
      "text/plain": [
       "<matplotlib.legend.Legend at 0x2b0fd9a6c710>"
      ]
     },
     "execution_count": 103,
     "metadata": {},
     "output_type": "execute_result"
    },
    {
     "data": {
      "image/png": "[encoded data removed]",
      "text/plain": [
       "<Figure size 432x288 with 1 Axes>"
      ]
     },
     "metadata": {
      "needs_background": "light"
     },
     "output_type": "display_data"
    }
   ],
   "source": [
    "plt.plot(loss_dict_gru['val'], label = 'Validate')\n",
    "plt.plot(loss_dict_gru['train'], label = 'Train')\n",
    "plt.xlabel('A batch iteration')\n",
    "plt.ylabel('Loss')\n",
    "plt.legend()"
   ]
  },
  {
   "cell_type": "markdown",
   "metadata": {
    "heading_collapsed": true
   },
   "source": [
    "# Fine-tuning the model (CNN) (government)"
   ]
  },
  {
   "cell_type": "code",
   "execution_count": 104,
   "metadata": {
    "hidden": true
   },
   "outputs": [],
   "source": [
    "cnn = torch.load('/scratch/ark576/NLP_HW_2/cnn_hd=500_ks=3_cath_200k')"
   ]
  },
  {
   "cell_type": "code",
   "execution_count": 105,
   "metadata": {
    "hidden": true
   },
   "outputs": [],
   "source": [
    "optimizer = optim.Adam(filter(lambda p: p.requires_grad, cnn.parameters()), lr = 1e-3)"
   ]
  },
  {
   "cell_type": "code",
   "execution_count": 106,
   "metadata": {
    "hidden": true
   },
   "outputs": [],
   "source": [
    "criterion = nn.CrossEntropyLoss()"
   ]
  },
  {
   "cell_type": "code",
   "execution_count": 107,
   "metadata": {
    "hidden": true,
    "scrolled": true
   },
   "outputs": [
    {
     "name": "stdout",
     "output_type": "stream",
     "text": [
      "Epoch: [1/6], Step: [4/31], Validation Acc: 45.767716535433074\n",
      "Epoch: [1/6], Step: [7/31], Validation Acc: 45.767716535433074\n",
      "Epoch: [1/6], Step: [10/31], Validation Acc: 44.881889763779526\n",
      "Epoch: [1/6], Step: [13/31], Validation Acc: 45.669291338582674\n",
      "Epoch: [1/6], Step: [16/31], Validation Acc: 45.275590551181104\n",
      "Epoch: [1/6], Step: [19/31], Validation Acc: 44.68503937007874\n",
      "Epoch: [1/6], Step: [22/31], Validation Acc: 45.07874015748032\n",
      "Epoch: [1/6], Step: [25/31], Validation Acc: 44.58661417322835\n",
      "Epoch: [1/6], Step: [28/31], Validation Acc: 45.07874015748032\n",
      "Epoch: [1/6], Step: [31/31], Validation Acc: 43.7992125984252\n",
      "Epoch: [2/6], Step: [4/31], Validation Acc: 42.02755905511811\n",
      "Epoch: [2/6], Step: [7/31], Validation Acc: 43.40551181102362\n",
      "Epoch: [2/6], Step: [10/31], Validation Acc: 44.29133858267716\n",
      "Epoch: [2/6], Step: [13/31], Validation Acc: 44.78346456692913\n",
      "Epoch: [2/6], Step: [16/31], Validation Acc: 44.98031496062992\n",
      "Epoch: [2/6], Step: [19/31], Validation Acc: 44.58661417322835\n",
      "Epoch: [2/6], Step: [22/31], Validation Acc: 45.767716535433074\n",
      "Epoch: [2/6], Step: [25/31], Validation Acc: 47.145669291338585\n",
      "Epoch: [2/6], Step: [28/31], Validation Acc: 45.767716535433074\n",
      "Epoch: [2/6], Step: [31/31], Validation Acc: 46.25984251968504\n",
      "Epoch: [3/6], Step: [4/31], Validation Acc: 46.06299212598425\n",
      "Epoch: [3/6], Step: [7/31], Validation Acc: 45.669291338582674\n",
      "Epoch: [3/6], Step: [10/31], Validation Acc: 45.767716535433074\n",
      "Epoch: [3/6], Step: [13/31], Validation Acc: 45.669291338582674\n",
      "Epoch: [3/6], Step: [16/31], Validation Acc: 45.17716535433071\n",
      "Epoch: [3/6], Step: [19/31], Validation Acc: 45.275590551181104\n",
      "Epoch: [3/6], Step: [22/31], Validation Acc: 47.63779527559055\n",
      "Epoch: [3/6], Step: [25/31], Validation Acc: 47.145669291338585\n",
      "Epoch: [3/6], Step: [28/31], Validation Acc: 45.767716535433074\n",
      "Epoch: [3/6], Step: [31/31], Validation Acc: 44.881889763779526\n",
      "Epoch: [4/6], Step: [4/31], Validation Acc: 44.09448818897638\n",
      "Epoch: [4/6], Step: [7/31], Validation Acc: 44.881889763779526\n",
      "Epoch: [4/6], Step: [10/31], Validation Acc: 45.669291338582674\n",
      "Epoch: [4/6], Step: [13/31], Validation Acc: 45.96456692913386\n",
      "Epoch: [4/6], Step: [16/31], Validation Acc: 47.145669291338585\n",
      "Epoch: [4/6], Step: [19/31], Validation Acc: 46.653543307086615\n",
      "Epoch: [4/6], Step: [22/31], Validation Acc: 45.57086614173228\n",
      "Epoch: [4/6], Step: [25/31], Validation Acc: 47.83464566929134\n",
      "Epoch: [4/6], Step: [28/31], Validation Acc: 46.75196850393701\n",
      "Epoch: [4/6], Step: [31/31], Validation Acc: 46.55511811023622\n",
      "Epoch: [5/6], Step: [4/31], Validation Acc: 44.29133858267716\n",
      "Epoch: [5/6], Step: [7/31], Validation Acc: 43.7992125984252\n",
      "Epoch: [5/6], Step: [10/31], Validation Acc: 44.488188976377955\n",
      "Epoch: [5/6], Step: [13/31], Validation Acc: 44.881889763779526\n",
      "Epoch: [5/6], Step: [16/31], Validation Acc: 45.96456692913386\n",
      "Epoch: [5/6], Step: [19/31], Validation Acc: 44.98031496062992\n",
      "Epoch: [5/6], Step: [22/31], Validation Acc: 43.7992125984252\n",
      "Epoch: [5/6], Step: [25/31], Validation Acc: 45.07874015748032\n",
      "Epoch: [5/6], Step: [28/31], Validation Acc: 46.94881889763779\n",
      "Epoch: [5/6], Step: [31/31], Validation Acc: 46.75196850393701\n",
      "Epoch: [6/6], Step: [4/31], Validation Acc: 40.354330708661415\n",
      "Epoch: [6/6], Step: [7/31], Validation Acc: 42.71653543307087\n",
      "Epoch: [6/6], Step: [10/31], Validation Acc: 45.374015748031496\n",
      "Epoch: [6/6], Step: [13/31], Validation Acc: 44.68503937007874\n",
      "Epoch: [6/6], Step: [16/31], Validation Acc: 43.503937007874015\n",
      "Epoch: [6/6], Step: [19/31], Validation Acc: 41.92913385826772\n",
      "Epoch: [6/6], Step: [22/31], Validation Acc: 41.63385826771653\n",
      "Epoch: [6/6], Step: [25/31], Validation Acc: 43.20866141732284\n",
      "Epoch: [6/6], Step: [28/31], Validation Acc: 43.503937007874015\n",
      "Epoch: [6/6], Step: [31/31], Validation Acc: 43.40551181102362\n",
      "Best Accuracy:47.83464566929134\n"
     ]
    }
   ],
   "source": [
    "cnn, loss_dict_gru, acc_dict_gru, best_pred_gru = train_model(cnn,criterion,optimizer,train_data_loaders[1],\\\n",
    "                                                              val_data_loaders[1],'cnn_hd=500_ks=3_cath_200k_ft_govt',num_epochs=6)"
   ]
  },
  {
   "cell_type": "code",
   "execution_count": 108,
   "metadata": {
    "hidden": true
   },
   "outputs": [
    {
     "data": {
      "text/plain": [
       "<matplotlib.legend.Legend at 0x2b0ffff72f98>"
      ]
     },
     "execution_count": 108,
     "metadata": {},
     "output_type": "execute_result"
    },
    {
     "data": {
      "image/png": "[encoded data removed]",
      "text/plain": [
       "<Figure size 432x288 with 1 Axes>"
      ]
     },
     "metadata": {
      "needs_background": "light"
     },
     "output_type": "display_data"
    }
   ],
   "source": [
    "plt.plot(acc_dict_gru['val'], label = 'Validate')\n",
    "plt.plot(acc_dict_gru['train'], label = 'Train')\n",
    "plt.xlabel('A batch iteration')\n",
    "plt.ylabel('Accuracy')\n",
    "plt.legend()"
   ]
  },
  {
   "cell_type": "code",
   "execution_count": 109,
   "metadata": {
    "hidden": true
   },
   "outputs": [
    {
     "data": {
      "text/plain": [
       "<matplotlib.legend.Legend at 0x2b0fd90f7470>"
      ]
     },
     "execution_count": 109,
     "metadata": {},
     "output_type": "execute_result"
    },
    {
     "data": {
      "image/png": "[encoded data removed]",
      "text/plain": [
       "<Figure size 432x288 with 1 Axes>"
      ]
     },
     "metadata": {
      "needs_background": "light"
     },
     "output_type": "display_data"
    }
   ],
   "source": [
    "plt.plot(loss_dict_gru['val'], label = 'Validate')\n",
    "plt.plot(loss_dict_gru['train'], label = 'Train')\n",
    "plt.xlabel('A batch iteration')\n",
    "plt.ylabel('Loss')\n",
    "plt.legend()"
   ]
  },
  {
   "cell_type": "markdown",
   "metadata": {
    "heading_collapsed": true
   },
   "source": [
    "# Fine-tuning the model (CNN) (slate)"
   ]
  },
  {
   "cell_type": "code",
   "execution_count": 110,
   "metadata": {
    "hidden": true
   },
   "outputs": [],
   "source": [
    "cnn = torch.load('/scratch/ark576/NLP_HW_2/cnn_hd=500_ks=3_cath_200k')"
   ]
  },
  {
   "cell_type": "code",
   "execution_count": 111,
   "metadata": {
    "hidden": true
   },
   "outputs": [],
   "source": [
    "optimizer = optim.Adam(filter(lambda p: p.requires_grad, cnn.parameters()), lr = 1e-3)"
   ]
  },
  {
   "cell_type": "code",
   "execution_count": 112,
   "metadata": {
    "hidden": true
   },
   "outputs": [],
   "source": [
    "criterion = nn.CrossEntropyLoss()"
   ]
  },
  {
   "cell_type": "code",
   "execution_count": 113,
   "metadata": {
    "hidden": true,
    "scrolled": true
   },
   "outputs": [
    {
     "name": "stdout",
     "output_type": "stream",
     "text": [
      "Epoch: [1/6], Step: [4/32], Validation Acc: 42.61477045908184\n",
      "Epoch: [1/6], Step: [7/32], Validation Acc: 41.91616766467066\n",
      "Epoch: [1/6], Step: [10/32], Validation Acc: 40.7185628742515\n",
      "Epoch: [1/6], Step: [13/32], Validation Acc: 40.01996007984032\n",
      "Epoch: [1/6], Step: [16/32], Validation Acc: 40.41916167664671\n",
      "Epoch: [1/6], Step: [19/32], Validation Acc: 40.91816367265469\n",
      "Epoch: [1/6], Step: [22/32], Validation Acc: 41.01796407185629\n",
      "Epoch: [1/6], Step: [25/32], Validation Acc: 40.91816367265469\n",
      "Epoch: [1/6], Step: [28/32], Validation Acc: 40.91816367265469\n",
      "Epoch: [1/6], Step: [31/32], Validation Acc: 41.21756487025948\n",
      "Epoch: [2/6], Step: [4/32], Validation Acc: 41.71656686626746\n",
      "Epoch: [2/6], Step: [7/32], Validation Acc: 41.81636726546906\n",
      "Epoch: [2/6], Step: [10/32], Validation Acc: 40.91816367265469\n",
      "Epoch: [2/6], Step: [13/32], Validation Acc: 41.31736526946108\n",
      "Epoch: [2/6], Step: [16/32], Validation Acc: 42.81437125748503\n",
      "Epoch: [2/6], Step: [19/32], Validation Acc: 42.61477045908184\n",
      "Epoch: [2/6], Step: [22/32], Validation Acc: 42.71457085828343\n",
      "Epoch: [2/6], Step: [25/32], Validation Acc: 41.91616766467066\n",
      "Epoch: [2/6], Step: [28/32], Validation Acc: 42.21556886227545\n",
      "Epoch: [2/6], Step: [31/32], Validation Acc: 43.612774451097806\n",
      "Epoch: [3/6], Step: [4/32], Validation Acc: 44.41117764471058\n",
      "Epoch: [3/6], Step: [7/32], Validation Acc: 44.510978043912175\n",
      "Epoch: [3/6], Step: [10/32], Validation Acc: 43.91217564870259\n",
      "Epoch: [3/6], Step: [13/32], Validation Acc: 43.612774451097806\n",
      "Epoch: [3/6], Step: [16/32], Validation Acc: 44.11177644710579\n",
      "Epoch: [3/6], Step: [19/32], Validation Acc: 43.712574850299404\n",
      "Epoch: [3/6], Step: [22/32], Validation Acc: 44.41117764471058\n",
      "Epoch: [3/6], Step: [25/32], Validation Acc: 44.81037924151697\n",
      "Epoch: [3/6], Step: [28/32], Validation Acc: 45.00998003992016\n",
      "Epoch: [3/6], Step: [31/32], Validation Acc: 43.213572854291414\n",
      "Epoch: [4/6], Step: [4/32], Validation Acc: 44.61077844311377\n",
      "Epoch: [4/6], Step: [7/32], Validation Acc: 42.115768463073856\n",
      "Epoch: [4/6], Step: [10/32], Validation Acc: 42.81437125748503\n",
      "Epoch: [4/6], Step: [13/32], Validation Acc: 44.71057884231537\n",
      "Epoch: [4/6], Step: [16/32], Validation Acc: 44.81037924151697\n",
      "Epoch: [4/6], Step: [19/32], Validation Acc: 42.91417165668663\n",
      "Epoch: [4/6], Step: [22/32], Validation Acc: 44.11177644710579\n",
      "Epoch: [4/6], Step: [25/32], Validation Acc: 44.21157684630739\n",
      "Epoch: [4/6], Step: [28/32], Validation Acc: 43.11377245508982\n",
      "Epoch: [4/6], Step: [31/32], Validation Acc: 45.209580838323355\n",
      "Epoch: [5/6], Step: [4/32], Validation Acc: 44.41117764471058\n",
      "Epoch: [5/6], Step: [7/32], Validation Acc: 41.417165668662676\n",
      "Epoch: [5/6], Step: [10/32], Validation Acc: 43.612774451097806\n",
      "Epoch: [5/6], Step: [13/32], Validation Acc: 45.409181636726544\n",
      "Epoch: [5/6], Step: [16/32], Validation Acc: 44.01197604790419\n",
      "Epoch: [5/6], Step: [19/32], Validation Acc: 42.91417165668663\n",
      "Epoch: [5/6], Step: [22/32], Validation Acc: 45.209580838323355\n",
      "Epoch: [5/6], Step: [25/32], Validation Acc: 43.41317365269461\n",
      "Epoch: [5/6], Step: [28/32], Validation Acc: 42.115768463073856\n",
      "Epoch: [5/6], Step: [31/32], Validation Acc: 42.41516966067864\n",
      "Epoch: [6/6], Step: [4/32], Validation Acc: 43.013972055888225\n",
      "Epoch: [6/6], Step: [7/32], Validation Acc: 42.315369261477045\n",
      "Epoch: [6/6], Step: [10/32], Validation Acc: 43.812375249500995\n",
      "Epoch: [6/6], Step: [13/32], Validation Acc: 44.71057884231537\n",
      "Epoch: [6/6], Step: [16/32], Validation Acc: 44.11177644710579\n",
      "Epoch: [6/6], Step: [19/32], Validation Acc: 43.213572854291414\n",
      "Epoch: [6/6], Step: [22/32], Validation Acc: 44.71057884231537\n",
      "Epoch: [6/6], Step: [25/32], Validation Acc: 43.213572854291414\n",
      "Epoch: [6/6], Step: [28/32], Validation Acc: 42.41516966067864\n",
      "Epoch: [6/6], Step: [31/32], Validation Acc: 44.11177644710579\n",
      "Best Accuracy:45.409181636726544\n"
     ]
    }
   ],
   "source": [
    "cnn, loss_dict_gru, acc_dict_gru, best_pred_gru = train_model(cnn,criterion,optimizer,train_data_loaders[2],\\\n",
    "                                                              val_data_loaders[2],'cnn_hd=500_ks=3_cath_200k_ft_slate',num_epochs=6)"
   ]
  },
  {
   "cell_type": "code",
   "execution_count": 114,
   "metadata": {
    "hidden": true
   },
   "outputs": [
    {
     "data": {
      "text/plain": [
       "<matplotlib.legend.Legend at 0x2b0ffec3f668>"
      ]
     },
     "execution_count": 114,
     "metadata": {},
     "output_type": "execute_result"
    },
    {
     "data": {
      "image/png": "[encoded data removed]",
      "text/plain": [
       "<Figure size 432x288 with 1 Axes>"
      ]
     },
     "metadata": {
      "needs_background": "light"
     },
     "output_type": "display_data"
    }
   ],
   "source": [
    "plt.plot(acc_dict_gru['val'], label = 'Validate')\n",
    "plt.plot(acc_dict_gru['train'], label = 'Train')\n",
    "plt.xlabel('A batch iteration')\n",
    "plt.ylabel('Accuracy')\n",
    "plt.legend()"
   ]
  },
  {
   "cell_type": "code",
   "execution_count": 115,
   "metadata": {
    "hidden": true
   },
   "outputs": [
    {
     "data": {
      "text/plain": [
       "<matplotlib.legend.Legend at 0x2b1002306908>"
      ]
     },
     "execution_count": 115,
     "metadata": {},
     "output_type": "execute_result"
    },
    {
     "data": {
      "image/png": "[encoded data removed]",
      "text/plain": [
       "<Figure size 432x288 with 1 Axes>"
      ]
     },
     "metadata": {
      "needs_background": "light"
     },
     "output_type": "display_data"
    }
   ],
   "source": [
    "plt.plot(loss_dict_gru['val'], label = 'Validate')\n",
    "plt.plot(loss_dict_gru['train'], label = 'Train')\n",
    "plt.xlabel('A batch iteration')\n",
    "plt.ylabel('Loss')\n",
    "plt.legend()"
   ]
  },
  {
   "cell_type": "markdown",
   "metadata": {
    "heading_collapsed": true
   },
   "source": [
    "# Fine-tuning the model (CNN) (telephone)"
   ]
  },
  {
   "cell_type": "code",
   "execution_count": 116,
   "metadata": {
    "hidden": true
   },
   "outputs": [],
   "source": [
    "cnn = torch.load('/scratch/ark576/NLP_HW_2/cnn_hd=500_ks=3_cath_200k')"
   ]
  },
  {
   "cell_type": "code",
   "execution_count": 117,
   "metadata": {
    "hidden": true
   },
   "outputs": [],
   "source": [
    "optimizer = optim.Adam(filter(lambda p: p.requires_grad, cnn.parameters()), lr = 1e-3)"
   ]
  },
  {
   "cell_type": "code",
   "execution_count": 118,
   "metadata": {
    "hidden": true
   },
   "outputs": [],
   "source": [
    "criterion = nn.CrossEntropyLoss()"
   ]
  },
  {
   "cell_type": "code",
   "execution_count": 119,
   "metadata": {
    "hidden": true,
    "scrolled": true
   },
   "outputs": [
    {
     "name": "stdout",
     "output_type": "stream",
     "text": [
      "Epoch: [1/6], Step: [4/34], Validation Acc: 44.776119402985074\n",
      "Epoch: [1/6], Step: [7/34], Validation Acc: 43.582089552238806\n",
      "Epoch: [1/6], Step: [10/34], Validation Acc: 42.58706467661692\n",
      "Epoch: [1/6], Step: [13/34], Validation Acc: 41.592039800995025\n",
      "Epoch: [1/6], Step: [16/34], Validation Acc: 40.8955223880597\n",
      "Epoch: [1/6], Step: [19/34], Validation Acc: 40.49751243781095\n",
      "Epoch: [1/6], Step: [22/34], Validation Acc: 40.298507462686565\n",
      "Epoch: [1/6], Step: [25/34], Validation Acc: 40.8955223880597\n",
      "Epoch: [1/6], Step: [28/34], Validation Acc: 40.59701492537314\n",
      "Epoch: [1/6], Step: [31/34], Validation Acc: 40.995024875621894\n",
      "Epoch: [1/6], Step: [34/34], Validation Acc: 41.89054726368159\n",
      "Epoch: [2/6], Step: [4/34], Validation Acc: 44.37810945273632\n",
      "Epoch: [2/6], Step: [7/34], Validation Acc: 44.776119402985074\n",
      "Epoch: [2/6], Step: [10/34], Validation Acc: 44.07960199004975\n",
      "Epoch: [2/6], Step: [13/34], Validation Acc: 44.776119402985074\n",
      "Epoch: [2/6], Step: [16/34], Validation Acc: 44.875621890547265\n",
      "Epoch: [2/6], Step: [19/34], Validation Acc: 44.875621890547265\n",
      "Epoch: [2/6], Step: [22/34], Validation Acc: 45.17412935323383\n",
      "Epoch: [2/6], Step: [25/34], Validation Acc: 46.766169154228855\n",
      "Epoch: [2/6], Step: [28/34], Validation Acc: 46.069651741293534\n",
      "Epoch: [2/6], Step: [31/34], Validation Acc: 46.46766169154229\n",
      "Epoch: [2/6], Step: [34/34], Validation Acc: 46.666666666666664\n",
      "Epoch: [3/6], Step: [4/34], Validation Acc: 46.666666666666664\n",
      "Epoch: [3/6], Step: [7/34], Validation Acc: 45.97014925373134\n",
      "Epoch: [3/6], Step: [10/34], Validation Acc: 45.57213930348259\n",
      "Epoch: [3/6], Step: [13/34], Validation Acc: 47.46268656716418\n",
      "Epoch: [3/6], Step: [16/34], Validation Acc: 46.96517412935324\n",
      "Epoch: [3/6], Step: [19/34], Validation Acc: 48.656716417910445\n",
      "Epoch: [3/6], Step: [22/34], Validation Acc: 49.353233830845774\n",
      "Epoch: [3/6], Step: [25/34], Validation Acc: 50.049751243781095\n",
      "Epoch: [3/6], Step: [28/34], Validation Acc: 49.950248756218905\n",
      "Epoch: [3/6], Step: [31/34], Validation Acc: 49.25373134328358\n",
      "Epoch: [3/6], Step: [34/34], Validation Acc: 49.75124378109453\n",
      "Epoch: [4/6], Step: [4/34], Validation Acc: 49.55223880597015\n",
      "Epoch: [4/6], Step: [7/34], Validation Acc: 49.55223880597015\n",
      "Epoch: [4/6], Step: [10/34], Validation Acc: 48.55721393034826\n",
      "Epoch: [4/6], Step: [13/34], Validation Acc: 47.960199004975124\n",
      "Epoch: [4/6], Step: [16/34], Validation Acc: 48.95522388059702\n",
      "Epoch: [4/6], Step: [19/34], Validation Acc: 48.159203980099505\n",
      "Epoch: [4/6], Step: [22/34], Validation Acc: 48.656716417910445\n",
      "Epoch: [4/6], Step: [25/34], Validation Acc: 47.66169154228856\n",
      "Epoch: [4/6], Step: [28/34], Validation Acc: 47.36318407960199\n",
      "Epoch: [4/6], Step: [31/34], Validation Acc: 48.45771144278607\n",
      "Epoch: [4/6], Step: [34/34], Validation Acc: 48.656716417910445\n",
      "Epoch: [5/6], Step: [4/34], Validation Acc: 51.04477611940298\n",
      "Epoch: [5/6], Step: [7/34], Validation Acc: 51.04477611940298\n",
      "Epoch: [5/6], Step: [10/34], Validation Acc: 50.049751243781095\n",
      "Epoch: [5/6], Step: [13/34], Validation Acc: 50.646766169154226\n",
      "Epoch: [5/6], Step: [16/34], Validation Acc: 49.25373134328358\n",
      "Epoch: [5/6], Step: [19/34], Validation Acc: 49.15422885572139\n",
      "Epoch: [5/6], Step: [22/34], Validation Acc: 47.960199004975124\n",
      "Epoch: [5/6], Step: [25/34], Validation Acc: 48.159203980099505\n",
      "Epoch: [5/6], Step: [28/34], Validation Acc: 47.76119402985075\n",
      "Epoch: [5/6], Step: [31/34], Validation Acc: 48.756218905472636\n",
      "Epoch: [5/6], Step: [34/34], Validation Acc: 47.56218905472637\n",
      "Epoch: [6/6], Step: [4/34], Validation Acc: 47.2636815920398\n",
      "Epoch: [6/6], Step: [7/34], Validation Acc: 46.666666666666664\n",
      "Epoch: [6/6], Step: [10/34], Validation Acc: 48.55721393034826\n",
      "Epoch: [6/6], Step: [13/34], Validation Acc: 48.25870646766169\n",
      "Epoch: [6/6], Step: [16/34], Validation Acc: 48.656716417910445\n",
      "Epoch: [6/6], Step: [19/34], Validation Acc: 47.66169154228856\n",
      "Epoch: [6/6], Step: [22/34], Validation Acc: 48.756218905472636\n",
      "Epoch: [6/6], Step: [25/34], Validation Acc: 48.159203980099505\n",
      "Epoch: [6/6], Step: [28/34], Validation Acc: 48.059701492537314\n",
      "Epoch: [6/6], Step: [31/34], Validation Acc: 47.2636815920398\n",
      "Epoch: [6/6], Step: [34/34], Validation Acc: 48.35820895522388\n",
      "Best Accuracy:51.04477611940298\n"
     ]
    }
   ],
   "source": [
    "cnn, loss_dict_gru, acc_dict_gru, best_pred_gru = train_model(cnn,criterion,optimizer,train_data_loaders[3],\\\n",
    "                                                              val_data_loaders[3],'cnn_hd=500_ks=3_cath_200k_ft_tele',num_epochs=6)"
   ]
  },
  {
   "cell_type": "code",
   "execution_count": 120,
   "metadata": {
    "hidden": true
   },
   "outputs": [
    {
     "data": {
      "text/plain": [
       "<matplotlib.legend.Legend at 0x2b0fda4a6710>"
      ]
     },
     "execution_count": 120,
     "metadata": {},
     "output_type": "execute_result"
    },
    {
     "data": {
      "image/png": "[encoded data removed]",
      "text/plain": [
       "<Figure size 432x288 with 1 Axes>"
      ]
     },
     "metadata": {
      "needs_background": "light"
     },
     "output_type": "display_data"
    }
   ],
   "source": [
    "plt.plot(acc_dict_gru['val'], label = 'Validate')\n",
    "plt.plot(acc_dict_gru['train'], label = 'Train')\n",
    "plt.xlabel('A batch iteration')\n",
    "plt.ylabel('Accuracy')\n",
    "plt.legend()"
   ]
  },
  {
   "cell_type": "code",
   "execution_count": 121,
   "metadata": {
    "hidden": true
   },
   "outputs": [
    {
     "data": {
      "text/plain": [
       "<matplotlib.legend.Legend at 0x2b1008c5d860>"
      ]
     },
     "execution_count": 121,
     "metadata": {},
     "output_type": "execute_result"
    },
    {
     "data": {
      "image/png": "[encoded data removed]",
      "text/plain": [
       "<Figure size 432x288 with 1 Axes>"
      ]
     },
     "metadata": {
      "needs_background": "light"
     },
     "output_type": "display_data"
    }
   ],
   "source": [
    "plt.plot(loss_dict_gru['val'], label = 'Validate')\n",
    "plt.plot(loss_dict_gru['train'], label = 'Train')\n",
    "plt.xlabel('A batch iteration')\n",
    "plt.ylabel('Loss')\n",
    "plt.legend()"
   ]
  },
  {
   "cell_type": "markdown",
   "metadata": {
    "heading_collapsed": true
   },
   "source": [
    "# Fine-tuning the model (CNN) (travel)"
   ]
  },
  {
   "cell_type": "code",
   "execution_count": 122,
   "metadata": {
    "hidden": true
   },
   "outputs": [],
   "source": [
    "cnn = torch.load('/scratch/ark576/NLP_HW_2/cnn_hd=500_ks=3_cath_200k')"
   ]
  },
  {
   "cell_type": "code",
   "execution_count": 123,
   "metadata": {
    "hidden": true
   },
   "outputs": [],
   "source": [
    "optimizer = optim.Adam(filter(lambda p: p.requires_grad, cnn.parameters()), lr = 1e-3)"
   ]
  },
  {
   "cell_type": "code",
   "execution_count": 124,
   "metadata": {
    "hidden": true
   },
   "outputs": [],
   "source": [
    "criterion = nn.CrossEntropyLoss()"
   ]
  },
  {
   "cell_type": "code",
   "execution_count": 125,
   "metadata": {
    "hidden": true,
    "scrolled": true
   },
   "outputs": [
    {
     "name": "stdout",
     "output_type": "stream",
     "text": [
      "Epoch: [1/6], Step: [4/32], Validation Acc: 44.806517311608964\n",
      "Epoch: [1/6], Step: [7/32], Validation Acc: 44.19551934826884\n",
      "Epoch: [1/6], Step: [10/32], Validation Acc: 43.17718940936864\n",
      "Epoch: [1/6], Step: [13/32], Validation Acc: 43.788187372708755\n",
      "Epoch: [1/6], Step: [16/32], Validation Acc: 43.4826883910387\n",
      "Epoch: [1/6], Step: [19/32], Validation Acc: 44.70468431771894\n",
      "Epoch: [1/6], Step: [22/32], Validation Acc: 45.11201629327902\n",
      "Epoch: [1/6], Step: [25/32], Validation Acc: 44.29735234215886\n",
      "Epoch: [1/6], Step: [28/32], Validation Acc: 45.41751527494908\n",
      "Epoch: [1/6], Step: [31/32], Validation Acc: 45.621181262729124\n",
      "Epoch: [2/6], Step: [4/32], Validation Acc: 45.21384928716904\n",
      "Epoch: [2/6], Step: [7/32], Validation Acc: 45.5193482688391\n",
      "Epoch: [2/6], Step: [10/32], Validation Acc: 45.21384928716904\n",
      "Epoch: [2/6], Step: [13/32], Validation Acc: 44.908350305498985\n",
      "Epoch: [2/6], Step: [16/32], Validation Acc: 45.41751527494908\n",
      "Epoch: [2/6], Step: [19/32], Validation Acc: 45.11201629327902\n",
      "Epoch: [2/6], Step: [22/32], Validation Acc: 45.621181262729124\n",
      "Epoch: [2/6], Step: [25/32], Validation Acc: 45.723014256619145\n",
      "Epoch: [2/6], Step: [28/32], Validation Acc: 45.824847250509166\n",
      "Epoch: [2/6], Step: [31/32], Validation Acc: 46.537678207739305\n",
      "Epoch: [3/6], Step: [4/32], Validation Acc: 47.657841140529534\n",
      "Epoch: [3/6], Step: [7/32], Validation Acc: 47.25050916496945\n",
      "Epoch: [3/6], Step: [10/32], Validation Acc: 47.657841140529534\n",
      "Epoch: [3/6], Step: [13/32], Validation Acc: 46.94501018329939\n",
      "Epoch: [3/6], Step: [16/32], Validation Acc: 48.16700610997963\n",
      "Epoch: [3/6], Step: [19/32], Validation Acc: 47.96334012219959\n",
      "Epoch: [3/6], Step: [22/32], Validation Acc: 48.06517311608961\n",
      "Epoch: [3/6], Step: [25/32], Validation Acc: 47.25050916496945\n",
      "Epoch: [3/6], Step: [28/32], Validation Acc: 46.33401221995927\n",
      "Epoch: [3/6], Step: [31/32], Validation Acc: 46.94501018329939\n",
      "Epoch: [4/6], Step: [4/32], Validation Acc: 45.621181262729124\n",
      "Epoch: [4/6], Step: [7/32], Validation Acc: 47.25050916496945\n",
      "Epoch: [4/6], Step: [10/32], Validation Acc: 47.55600814663951\n",
      "Epoch: [4/6], Step: [13/32], Validation Acc: 46.13034623217923\n",
      "Epoch: [4/6], Step: [16/32], Validation Acc: 46.13034623217923\n",
      "Epoch: [4/6], Step: [19/32], Validation Acc: 44.60285132382892\n",
      "Epoch: [4/6], Step: [22/32], Validation Acc: 45.31568228105906\n",
      "Epoch: [4/6], Step: [25/32], Validation Acc: 46.537678207739305\n",
      "Epoch: [4/6], Step: [28/32], Validation Acc: 45.824847250509166\n",
      "Epoch: [4/6], Step: [31/32], Validation Acc: 45.723014256619145\n",
      "Epoch: [5/6], Step: [4/32], Validation Acc: 45.41751527494908\n",
      "Epoch: [5/6], Step: [7/32], Validation Acc: 43.686354378818734\n",
      "Epoch: [5/6], Step: [10/32], Validation Acc: 44.70468431771894\n",
      "Epoch: [5/6], Step: [13/32], Validation Acc: 45.5193482688391\n",
      "Epoch: [5/6], Step: [16/32], Validation Acc: 45.21384928716904\n",
      "Epoch: [5/6], Step: [19/32], Validation Acc: 44.60285132382892\n",
      "Epoch: [5/6], Step: [22/32], Validation Acc: 43.9918533604888\n",
      "Epoch: [5/6], Step: [25/32], Validation Acc: 45.010183299389\n",
      "Epoch: [5/6], Step: [28/32], Validation Acc: 44.09368635437882\n",
      "Epoch: [5/6], Step: [31/32], Validation Acc: 43.788187372708755\n",
      "Epoch: [6/6], Step: [4/32], Validation Acc: 45.824847250509166\n",
      "Epoch: [6/6], Step: [7/32], Validation Acc: 43.4826883910387\n",
      "Epoch: [6/6], Step: [10/32], Validation Acc: 42.871690427698574\n",
      "Epoch: [6/6], Step: [13/32], Validation Acc: 44.5010183299389\n",
      "Epoch: [6/6], Step: [16/32], Validation Acc: 44.806517311608964\n",
      "Epoch: [6/6], Step: [19/32], Validation Acc: 44.60285132382892\n",
      "Epoch: [6/6], Step: [22/32], Validation Acc: 44.70468431771894\n",
      "Epoch: [6/6], Step: [25/32], Validation Acc: 45.11201629327902\n",
      "Epoch: [6/6], Step: [28/32], Validation Acc: 45.31568228105906\n",
      "Epoch: [6/6], Step: [31/32], Validation Acc: 44.60285132382892\n",
      "Best Accuracy:48.16700610997963\n"
     ]
    }
   ],
   "source": [
    "cnn, loss_dict_gru, acc_dict_gru, best_pred_gru = train_model(cnn,criterion,optimizer,train_data_loaders[4],\\\n",
    "                                                              val_data_loaders[4],'cnn_hd=500_ks=3_cath_200k_ft_travel',num_epochs=6)"
   ]
  },
  {
   "cell_type": "code",
   "execution_count": 126,
   "metadata": {
    "hidden": true
   },
   "outputs": [
    {
     "data": {
      "text/plain": [
       "<matplotlib.legend.Legend at 0x2b0fda41fd30>"
      ]
     },
     "execution_count": 126,
     "metadata": {},
     "output_type": "execute_result"
    },
    {
     "data": {
      "image/png": "[encoded data removed]",
      "text/plain": [
       "<Figure size 432x288 with 1 Axes>"
      ]
     },
     "metadata": {
      "needs_background": "light"
     },
     "output_type": "display_data"
    }
   ],
   "source": [
    "plt.plot(acc_dict_gru['val'], label = 'Validate')\n",
    "plt.plot(acc_dict_gru['train'], label = 'Train')\n",
    "plt.xlabel('A batch iteration')\n",
    "plt.ylabel('Accuracy')\n",
    "plt.legend()"
   ]
  },
  {
   "cell_type": "code",
   "execution_count": 127,
   "metadata": {
    "hidden": true
   },
   "outputs": [
    {
     "data": {
      "text/plain": [
       "<matplotlib.legend.Legend at 0x2b1002163f60>"
      ]
     },
     "execution_count": 127,
     "metadata": {},
     "output_type": "execute_result"
    },
    {
     "data": {
      "image/png": "[encoded data removed]",
      "text/plain": [
       "<Figure size 432x288 with 1 Axes>"
      ]
     },
     "metadata": {
      "needs_background": "light"
     },
     "output_type": "display_data"
    }
   ],
   "source": [
    "plt.plot(loss_dict_gru['val'], label = 'Validate')\n",
    "plt.plot(loss_dict_gru['train'], label = 'Train')\n",
    "plt.xlabel('A batch iteration')\n",
    "plt.ylabel('Loss')\n",
    "plt.legend()"
   ]
  },
  {
   "cell_type": "markdown",
   "metadata": {
    "heading_collapsed": true
   },
   "source": [
    "# Fine-tuning the model (GRU) (fiction)"
   ]
  },
  {
   "cell_type": "code",
   "execution_count": 159,
   "metadata": {
    "hidden": true
   },
   "outputs": [],
   "source": [
    "gru = torch.load('/scratch/ark576/NLP_HW_2/gru_hd=400_t2_dp=0_max_len=50_multh_200k')"
   ]
  },
  {
   "cell_type": "code",
   "execution_count": 160,
   "metadata": {
    "hidden": true
   },
   "outputs": [],
   "source": [
    "optimizer = optim.Adam(filter(lambda p: p.requires_grad, gru.parameters()), lr = 1e-3)"
   ]
  },
  {
   "cell_type": "code",
   "execution_count": 161,
   "metadata": {
    "hidden": true
   },
   "outputs": [],
   "source": [
    "criterion = nn.CrossEntropyLoss()"
   ]
  },
  {
   "cell_type": "code",
   "execution_count": 162,
   "metadata": {
    "hidden": true,
    "scrolled": true
   },
   "outputs": [
    {
     "name": "stdout",
     "output_type": "stream",
     "text": [
      "Epoch: [1/6], Step: [4/30], Validation Acc: 43.41708542713568\n",
      "Epoch: [1/6], Step: [7/30], Validation Acc: 44.120603015075375\n",
      "Epoch: [1/6], Step: [10/30], Validation Acc: 44.62311557788945\n",
      "Epoch: [1/6], Step: [13/30], Validation Acc: 44.52261306532663\n",
      "Epoch: [1/6], Step: [16/30], Validation Acc: 44.92462311557789\n",
      "Epoch: [1/6], Step: [19/30], Validation Acc: 45.527638190954775\n",
      "Epoch: [1/6], Step: [22/30], Validation Acc: 46.4321608040201\n",
      "Epoch: [1/6], Step: [25/30], Validation Acc: 46.33165829145729\n",
      "Epoch: [1/6], Step: [28/30], Validation Acc: 45.42713567839196\n",
      "Epoch: [2/6], Step: [4/30], Validation Acc: 46.733668341708544\n",
      "Epoch: [2/6], Step: [7/30], Validation Acc: 47.336683417085425\n",
      "Epoch: [2/6], Step: [10/30], Validation Acc: 48.34170854271357\n",
      "Epoch: [2/6], Step: [13/30], Validation Acc: 49.14572864321608\n",
      "Epoch: [2/6], Step: [16/30], Validation Acc: 48.84422110552764\n",
      "Epoch: [2/6], Step: [19/30], Validation Acc: 49.14572864321608\n",
      "Epoch: [2/6], Step: [22/30], Validation Acc: 48.44221105527638\n",
      "Epoch: [2/6], Step: [25/30], Validation Acc: 48.64321608040201\n",
      "Epoch: [2/6], Step: [28/30], Validation Acc: 48.34170854271357\n",
      "Epoch: [3/6], Step: [4/30], Validation Acc: 46.93467336683417\n",
      "Epoch: [3/6], Step: [7/30], Validation Acc: 47.1356783919598\n",
      "Epoch: [3/6], Step: [10/30], Validation Acc: 46.53266331658291\n",
      "Epoch: [3/6], Step: [13/30], Validation Acc: 46.53266331658291\n",
      "Epoch: [3/6], Step: [16/30], Validation Acc: 46.63316582914573\n",
      "Epoch: [3/6], Step: [19/30], Validation Acc: 46.53266331658291\n",
      "Epoch: [3/6], Step: [22/30], Validation Acc: 46.33165829145729\n",
      "Epoch: [3/6], Step: [25/30], Validation Acc: 46.231155778894475\n",
      "Epoch: [3/6], Step: [28/30], Validation Acc: 47.537688442211056\n",
      "Epoch: [4/6], Step: [4/30], Validation Acc: 46.834170854271356\n",
      "Epoch: [4/6], Step: [7/30], Validation Acc: 46.4321608040201\n",
      "Epoch: [4/6], Step: [10/30], Validation Acc: 46.53266331658291\n",
      "Epoch: [4/6], Step: [13/30], Validation Acc: 45.82914572864322\n",
      "Epoch: [4/6], Step: [16/30], Validation Acc: 47.03517587939699\n",
      "Epoch: [4/6], Step: [19/30], Validation Acc: 47.63819095477387\n",
      "Epoch: [4/6], Step: [22/30], Validation Acc: 47.03517587939699\n",
      "Epoch: [4/6], Step: [25/30], Validation Acc: 46.733668341708544\n",
      "Epoch: [4/6], Step: [28/30], Validation Acc: 46.63316582914573\n",
      "Epoch: [5/6], Step: [4/30], Validation Acc: 46.53266331658291\n",
      "Epoch: [5/6], Step: [7/30], Validation Acc: 46.4321608040201\n",
      "Epoch: [5/6], Step: [10/30], Validation Acc: 46.53266331658291\n",
      "Epoch: [5/6], Step: [13/30], Validation Acc: 46.733668341708544\n",
      "Epoch: [5/6], Step: [16/30], Validation Acc: 46.63316582914573\n",
      "Epoch: [5/6], Step: [19/30], Validation Acc: 46.33165829145729\n",
      "Epoch: [5/6], Step: [22/30], Validation Acc: 46.733668341708544\n",
      "Epoch: [5/6], Step: [25/30], Validation Acc: 46.93467336683417\n",
      "Epoch: [5/6], Step: [28/30], Validation Acc: 46.63316582914573\n",
      "Epoch: [6/6], Step: [4/30], Validation Acc: 47.336683417085425\n",
      "Epoch: [6/6], Step: [7/30], Validation Acc: 47.23618090452261\n",
      "Epoch: [6/6], Step: [10/30], Validation Acc: 47.437185929648244\n",
      "Epoch: [6/6], Step: [13/30], Validation Acc: 47.73869346733668\n",
      "Epoch: [6/6], Step: [16/30], Validation Acc: 47.8391959798995\n",
      "Epoch: [6/6], Step: [19/30], Validation Acc: 47.336683417085425\n",
      "Epoch: [6/6], Step: [22/30], Validation Acc: 47.73869346733668\n",
      "Epoch: [6/6], Step: [25/30], Validation Acc: 48.44221105527638\n",
      "Epoch: [6/6], Step: [28/30], Validation Acc: 47.1356783919598\n",
      "Best Accuracy:49.14572864321608\n"
     ]
    }
   ],
   "source": [
    "gru, loss_dict_gru, acc_dict_gru, best_pred_gru = train_model(gru,criterion,optimizer,train_data_loaders[0],\\\n",
    "                                                              val_data_loaders[0],'gru_hd=400_t2_dp=0_max_len=50_multh_200k_ft_fic',num_epochs=6)"
   ]
  },
  {
   "cell_type": "code",
   "execution_count": 163,
   "metadata": {
    "hidden": true
   },
   "outputs": [
    {
     "data": {
      "text/plain": [
       "<matplotlib.legend.Legend at 0x2b0fd9602ac8>"
      ]
     },
     "execution_count": 163,
     "metadata": {},
     "output_type": "execute_result"
    },
    {
     "data": {
      "image/png": "[encoded data removed]",
      "text/plain": [
       "<Figure size 432x288 with 1 Axes>"
      ]
     },
     "metadata": {
      "needs_background": "light"
     },
     "output_type": "display_data"
    }
   ],
   "source": [
    "plt.plot(acc_dict_gru['val'], label = 'Validate')\n",
    "plt.plot(acc_dict_gru['train'], label = 'Train')\n",
    "plt.xlabel('A batch iteration')\n",
    "plt.ylabel('Accuracy')\n",
    "plt.legend()"
   ]
  },
  {
   "cell_type": "code",
   "execution_count": 164,
   "metadata": {
    "hidden": true
   },
   "outputs": [
    {
     "data": {
      "text/plain": [
       "<matplotlib.legend.Legend at 0x2b0fd9a318d0>"
      ]
     },
     "execution_count": 164,
     "metadata": {},
     "output_type": "execute_result"
    },
    {
     "data": {
      "image/png": "[encoded data removed]",
      "text/plain": [
       "<Figure size 432x288 with 1 Axes>"
      ]
     },
     "metadata": {
      "needs_background": "light"
     },
     "output_type": "display_data"
    }
   ],
   "source": [
    "plt.plot(loss_dict_gru['val'], label = 'Validate')\n",
    "plt.plot(loss_dict_gru['train'], label = 'Train')\n",
    "plt.xlabel('A batch iteration')\n",
    "plt.ylabel('Loss')\n",
    "plt.legend()"
   ]
  },
  {
   "cell_type": "markdown",
   "metadata": {
    "heading_collapsed": true
   },
   "source": [
    "# Fine-tuning the model (GRU) (goverment)"
   ]
  },
  {
   "cell_type": "code",
   "execution_count": 165,
   "metadata": {
    "hidden": true
   },
   "outputs": [],
   "source": [
    "gru = torch.load('/scratch/ark576/NLP_HW_2/gru_hd=400_t2_dp=0_max_len=50_multh_200k')"
   ]
  },
  {
   "cell_type": "code",
   "execution_count": 166,
   "metadata": {
    "hidden": true
   },
   "outputs": [],
   "source": [
    "optimizer = optim.Adam(filter(lambda p: p.requires_grad, gru.parameters()), lr = 1e-3)"
   ]
  },
  {
   "cell_type": "code",
   "execution_count": 167,
   "metadata": {
    "hidden": true
   },
   "outputs": [],
   "source": [
    "criterion = nn.CrossEntropyLoss()"
   ]
  },
  {
   "cell_type": "code",
   "execution_count": 168,
   "metadata": {
    "hidden": true,
    "scrolled": true
   },
   "outputs": [
    {
     "name": "stdout",
     "output_type": "stream",
     "text": [
      "Epoch: [1/6], Step: [4/31], Validation Acc: 45.17716535433071\n",
      "Epoch: [1/6], Step: [7/31], Validation Acc: 46.94881889763779\n",
      "Epoch: [1/6], Step: [10/31], Validation Acc: 47.04724409448819\n",
      "Epoch: [1/6], Step: [13/31], Validation Acc: 46.94881889763779\n",
      "Epoch: [1/6], Step: [16/31], Validation Acc: 47.34251968503937\n",
      "Epoch: [1/6], Step: [19/31], Validation Acc: 46.45669291338583\n",
      "Epoch: [1/6], Step: [22/31], Validation Acc: 47.93307086614173\n",
      "Epoch: [1/6], Step: [25/31], Validation Acc: 48.425196850393704\n",
      "Epoch: [1/6], Step: [28/31], Validation Acc: 49.21259842519685\n",
      "Epoch: [1/6], Step: [31/31], Validation Acc: 49.21259842519685\n",
      "Epoch: [2/6], Step: [4/31], Validation Acc: 49.90157480314961\n",
      "Epoch: [2/6], Step: [7/31], Validation Acc: 48.818897637795274\n",
      "Epoch: [2/6], Step: [10/31], Validation Acc: 47.83464566929134\n",
      "Epoch: [2/6], Step: [13/31], Validation Acc: 47.83464566929134\n",
      "Epoch: [2/6], Step: [16/31], Validation Acc: 48.91732283464567\n",
      "Epoch: [2/6], Step: [19/31], Validation Acc: 49.90157480314961\n",
      "Epoch: [2/6], Step: [22/31], Validation Acc: 51.27952755905512\n",
      "Epoch: [2/6], Step: [25/31], Validation Acc: 50.98425196850393\n",
      "Epoch: [2/6], Step: [28/31], Validation Acc: 50.59055118110236\n",
      "Epoch: [2/6], Step: [31/31], Validation Acc: 48.62204724409449\n",
      "Epoch: [3/6], Step: [4/31], Validation Acc: 48.22834645669291\n",
      "Epoch: [3/6], Step: [7/31], Validation Acc: 48.031496062992126\n",
      "Epoch: [3/6], Step: [10/31], Validation Acc: 48.818897637795274\n",
      "Epoch: [3/6], Step: [13/31], Validation Acc: 50.0\n",
      "Epoch: [3/6], Step: [16/31], Validation Acc: 50.09842519685039\n",
      "Epoch: [3/6], Step: [19/31], Validation Acc: 51.08267716535433\n",
      "Epoch: [3/6], Step: [22/31], Validation Acc: 50.98425196850393\n",
      "Epoch: [3/6], Step: [25/31], Validation Acc: 50.09842519685039\n",
      "Epoch: [3/6], Step: [28/31], Validation Acc: 49.40944881889764\n",
      "Epoch: [3/6], Step: [31/31], Validation Acc: 49.01574803149607\n",
      "Epoch: [4/6], Step: [4/31], Validation Acc: 49.50787401574803\n",
      "Epoch: [4/6], Step: [7/31], Validation Acc: 49.90157480314961\n",
      "Epoch: [4/6], Step: [10/31], Validation Acc: 50.49212598425197\n",
      "Epoch: [4/6], Step: [13/31], Validation Acc: 49.311023622047244\n",
      "Epoch: [4/6], Step: [16/31], Validation Acc: 49.90157480314961\n",
      "Epoch: [4/6], Step: [19/31], Validation Acc: 49.40944881889764\n",
      "Epoch: [4/6], Step: [22/31], Validation Acc: 49.70472440944882\n",
      "Epoch: [4/6], Step: [25/31], Validation Acc: 49.11417322834646\n",
      "Epoch: [4/6], Step: [28/31], Validation Acc: 48.326771653543304\n",
      "Epoch: [4/6], Step: [31/31], Validation Acc: 49.11417322834646\n",
      "Epoch: [5/6], Step: [4/31], Validation Acc: 49.21259842519685\n",
      "Epoch: [5/6], Step: [7/31], Validation Acc: 49.11417322834646\n",
      "Epoch: [5/6], Step: [10/31], Validation Acc: 49.803149606299215\n",
      "Epoch: [5/6], Step: [13/31], Validation Acc: 49.311023622047244\n",
      "Epoch: [5/6], Step: [16/31], Validation Acc: 49.40944881889764\n",
      "Epoch: [5/6], Step: [19/31], Validation Acc: 49.21259842519685\n",
      "Epoch: [5/6], Step: [22/31], Validation Acc: 50.196850393700785\n",
      "Epoch: [5/6], Step: [25/31], Validation Acc: 50.29527559055118\n",
      "Epoch: [5/6], Step: [28/31], Validation Acc: 50.98425196850393\n",
      "Epoch: [5/6], Step: [31/31], Validation Acc: 51.37795275590551\n",
      "Epoch: [6/6], Step: [4/31], Validation Acc: 51.27952755905512\n",
      "Epoch: [6/6], Step: [7/31], Validation Acc: 50.09842519685039\n",
      "Epoch: [6/6], Step: [10/31], Validation Acc: 49.803149606299215\n",
      "Epoch: [6/6], Step: [13/31], Validation Acc: 50.98425196850393\n",
      "Epoch: [6/6], Step: [16/31], Validation Acc: 50.59055118110236\n",
      "Epoch: [6/6], Step: [19/31], Validation Acc: 50.49212598425197\n",
      "Epoch: [6/6], Step: [22/31], Validation Acc: 49.50787401574803\n",
      "Epoch: [6/6], Step: [25/31], Validation Acc: 48.72047244094488\n",
      "Epoch: [6/6], Step: [28/31], Validation Acc: 49.01574803149607\n",
      "Epoch: [6/6], Step: [31/31], Validation Acc: 48.62204724409449\n",
      "Best Accuracy:51.37795275590551\n"
     ]
    }
   ],
   "source": [
    "gru, loss_dict_gru, acc_dict_gru, best_pred_gru = train_model(gru,criterion,optimizer,train_data_loaders[1],\\\n",
    "                                                              val_data_loaders[1],'gru_hd=400_t2_dp=0_max_len=50_multh_200k_ft_govt',num_epochs=6)"
   ]
  },
  {
   "cell_type": "code",
   "execution_count": 169,
   "metadata": {
    "hidden": true
   },
   "outputs": [
    {
     "data": {
      "text/plain": [
       "<matplotlib.legend.Legend at 0x2b10070ff4a8>"
      ]
     },
     "execution_count": 169,
     "metadata": {},
     "output_type": "execute_result"
    },
    {
     "data": {
      "image/png": "[encoded data removed]",
      "text/plain": [
       "<Figure size 432x288 with 1 Axes>"
      ]
     },
     "metadata": {
      "needs_background": "light"
     },
     "output_type": "display_data"
    }
   ],
   "source": [
    "plt.plot(acc_dict_gru['val'], label = 'Validate')\n",
    "plt.plot(acc_dict_gru['train'], label = 'Train')\n",
    "plt.xlabel('A batch iteration')\n",
    "plt.ylabel('Accuracy')\n",
    "plt.legend()"
   ]
  },
  {
   "cell_type": "code",
   "execution_count": 170,
   "metadata": {
    "hidden": true
   },
   "outputs": [
    {
     "data": {
      "text/plain": [
       "<matplotlib.legend.Legend at 0x2b0ffb7477b8>"
      ]
     },
     "execution_count": 170,
     "metadata": {},
     "output_type": "execute_result"
    },
    {
     "data": {
      "image/png": "[encoded data removed]",
      "text/plain": [
       "<Figure size 432x288 with 1 Axes>"
      ]
     },
     "metadata": {
      "needs_background": "light"
     },
     "output_type": "display_data"
    }
   ],
   "source": [
    "plt.plot(loss_dict_gru['val'], label = 'Validate')\n",
    "plt.plot(loss_dict_gru['train'], label = 'Train')\n",
    "plt.xlabel('A batch iteration')\n",
    "plt.ylabel('Loss')\n",
    "plt.legend()"
   ]
  },
  {
   "cell_type": "markdown",
   "metadata": {
    "heading_collapsed": true
   },
   "source": [
    "# Fine-tuning the model (GRU) (slate)"
   ]
  },
  {
   "cell_type": "code",
   "execution_count": 171,
   "metadata": {
    "hidden": true
   },
   "outputs": [],
   "source": [
    "gru = torch.load('/scratch/ark576/NLP_HW_2/gru_hd=400_t2_dp=0_max_len=50_multh_200k')"
   ]
  },
  {
   "cell_type": "code",
   "execution_count": 172,
   "metadata": {
    "hidden": true
   },
   "outputs": [],
   "source": [
    "optimizer = optim.Adam(filter(lambda p: p.requires_grad, gru.parameters()), lr = 1e-3)"
   ]
  },
  {
   "cell_type": "code",
   "execution_count": 173,
   "metadata": {
    "hidden": true
   },
   "outputs": [],
   "source": [
    "criterion = nn.CrossEntropyLoss()"
   ]
  },
  {
   "cell_type": "code",
   "execution_count": 174,
   "metadata": {
    "hidden": true,
    "scrolled": true
   },
   "outputs": [
    {
     "name": "stdout",
     "output_type": "stream",
     "text": [
      "Epoch: [1/6], Step: [4/32], Validation Acc: 41.31736526946108\n",
      "Epoch: [1/6], Step: [7/32], Validation Acc: 39.02195608782435\n",
      "Epoch: [1/6], Step: [10/32], Validation Acc: 38.72255489021956\n",
      "Epoch: [1/6], Step: [13/32], Validation Acc: 38.72255489021956\n",
      "Epoch: [1/6], Step: [16/32], Validation Acc: 38.82235528942116\n",
      "Epoch: [1/6], Step: [19/32], Validation Acc: 38.32335329341317\n",
      "Epoch: [1/6], Step: [22/32], Validation Acc: 39.421157684630735\n",
      "Epoch: [1/6], Step: [25/32], Validation Acc: 40.01996007984032\n",
      "Epoch: [1/6], Step: [28/32], Validation Acc: 40.21956087824351\n",
      "Epoch: [1/6], Step: [31/32], Validation Acc: 38.72255489021956\n",
      "Epoch: [2/6], Step: [4/32], Validation Acc: 40.5189620758483\n",
      "Epoch: [2/6], Step: [7/32], Validation Acc: 40.818363273453095\n",
      "Epoch: [2/6], Step: [10/32], Validation Acc: 40.7185628742515\n",
      "Epoch: [2/6], Step: [13/32], Validation Acc: 40.21956087824351\n",
      "Epoch: [2/6], Step: [16/32], Validation Acc: 40.91816367265469\n",
      "Epoch: [2/6], Step: [19/32], Validation Acc: 41.01796407185629\n",
      "Epoch: [2/6], Step: [22/32], Validation Acc: 42.01596806387226\n",
      "Epoch: [2/6], Step: [25/32], Validation Acc: 41.71656686626746\n",
      "Epoch: [2/6], Step: [28/32], Validation Acc: 41.71656686626746\n",
      "Epoch: [2/6], Step: [31/32], Validation Acc: 42.41516966067864\n",
      "Epoch: [3/6], Step: [4/32], Validation Acc: 42.41516966067864\n",
      "Epoch: [3/6], Step: [7/32], Validation Acc: 42.01596806387226\n",
      "Epoch: [3/6], Step: [10/32], Validation Acc: 42.315369261477045\n",
      "Epoch: [3/6], Step: [13/32], Validation Acc: 42.21556886227545\n",
      "Epoch: [3/6], Step: [16/32], Validation Acc: 41.71656686626746\n",
      "Epoch: [3/6], Step: [19/32], Validation Acc: 42.01596806387226\n",
      "Epoch: [3/6], Step: [22/32], Validation Acc: 40.91816367265469\n",
      "Epoch: [3/6], Step: [25/32], Validation Acc: 40.21956087824351\n",
      "Epoch: [3/6], Step: [28/32], Validation Acc: 41.516966067864274\n",
      "Epoch: [3/6], Step: [31/32], Validation Acc: 41.417165668662676\n",
      "Epoch: [4/6], Step: [4/32], Validation Acc: 41.11776447105788\n",
      "Epoch: [4/6], Step: [7/32], Validation Acc: 40.6187624750499\n",
      "Epoch: [4/6], Step: [10/32], Validation Acc: 42.21556886227545\n",
      "Epoch: [4/6], Step: [13/32], Validation Acc: 42.61477045908184\n",
      "Epoch: [4/6], Step: [16/32], Validation Acc: 42.81437125748503\n",
      "Epoch: [4/6], Step: [19/32], Validation Acc: 43.213572854291414\n",
      "Epoch: [4/6], Step: [22/32], Validation Acc: 42.41516966067864\n",
      "Epoch: [4/6], Step: [25/32], Validation Acc: 41.91616766467066\n",
      "Epoch: [4/6], Step: [28/32], Validation Acc: 42.21556886227545\n",
      "Epoch: [4/6], Step: [31/32], Validation Acc: 42.315369261477045\n",
      "Epoch: [5/6], Step: [4/32], Validation Acc: 41.81636726546906\n",
      "Epoch: [5/6], Step: [7/32], Validation Acc: 40.6187624750499\n",
      "Epoch: [5/6], Step: [10/32], Validation Acc: 41.81636726546906\n",
      "Epoch: [5/6], Step: [13/32], Validation Acc: 41.417165668662676\n",
      "Epoch: [5/6], Step: [16/32], Validation Acc: 41.71656686626746\n",
      "Epoch: [5/6], Step: [19/32], Validation Acc: 41.417165668662676\n",
      "Epoch: [5/6], Step: [22/32], Validation Acc: 41.516966067864274\n",
      "Epoch: [5/6], Step: [25/32], Validation Acc: 41.31736526946108\n",
      "Epoch: [5/6], Step: [28/32], Validation Acc: 41.616766467065865\n",
      "Epoch: [5/6], Step: [31/32], Validation Acc: 42.41516966067864\n",
      "Epoch: [6/6], Step: [4/32], Validation Acc: 42.61477045908184\n",
      "Epoch: [6/6], Step: [7/32], Validation Acc: 43.213572854291414\n",
      "Epoch: [6/6], Step: [10/32], Validation Acc: 42.91417165668663\n",
      "Epoch: [6/6], Step: [13/32], Validation Acc: 43.213572854291414\n",
      "Epoch: [6/6], Step: [16/32], Validation Acc: 43.213572854291414\n",
      "Epoch: [6/6], Step: [19/32], Validation Acc: 42.71457085828343\n",
      "Epoch: [6/6], Step: [22/32], Validation Acc: 43.013972055888225\n",
      "Epoch: [6/6], Step: [25/32], Validation Acc: 42.91417165668663\n",
      "Epoch: [6/6], Step: [28/32], Validation Acc: 43.013972055888225\n",
      "Epoch: [6/6], Step: [31/32], Validation Acc: 42.115768463073856\n",
      "Best Accuracy:43.213572854291414\n"
     ]
    }
   ],
   "source": [
    "gru, loss_dict_gru, acc_dict_gru, best_pred_gru = train_model(gru,criterion,optimizer,train_data_loaders[2],\\\n",
    "                                                              val_data_loaders[2],'gru_hd=400_t2_dp=0_max_len=50_multh_200k_ft_slate',num_epochs=6)"
   ]
  },
  {
   "cell_type": "code",
   "execution_count": 175,
   "metadata": {
    "hidden": true
   },
   "outputs": [
    {
     "data": {
      "text/plain": [
       "<matplotlib.legend.Legend at 0x2b0fd949cef0>"
      ]
     },
     "execution_count": 175,
     "metadata": {},
     "output_type": "execute_result"
    },
    {
     "data": {
      "image/png": "[encoded data removed]",
      "text/plain": [
       "<Figure size 432x288 with 1 Axes>"
      ]
     },
     "metadata": {
      "needs_background": "light"
     },
     "output_type": "display_data"
    }
   ],
   "source": [
    "plt.plot(acc_dict_gru['val'], label = 'Validate')\n",
    "plt.plot(acc_dict_gru['train'], label = 'Train')\n",
    "plt.xlabel('A batch iteration')\n",
    "plt.ylabel('Accuracy')\n",
    "plt.legend()"
   ]
  },
  {
   "cell_type": "code",
   "execution_count": 176,
   "metadata": {
    "hidden": true
   },
   "outputs": [
    {
     "data": {
      "text/plain": [
       "<matplotlib.legend.Legend at 0x2b10028f7630>"
      ]
     },
     "execution_count": 176,
     "metadata": {},
     "output_type": "execute_result"
    },
    {
     "data": {
      "image/png": "[encoded data removed]",
      "text/plain": [
       "<Figure size 432x288 with 1 Axes>"
      ]
     },
     "metadata": {
      "needs_background": "light"
     },
     "output_type": "display_data"
    }
   ],
   "source": [
    "plt.plot(loss_dict_gru['val'], label = 'Validate')\n",
    "plt.plot(loss_dict_gru['train'], label = 'Train')\n",
    "plt.xlabel('A batch iteration')\n",
    "plt.ylabel('Loss')\n",
    "plt.legend()"
   ]
  },
  {
   "cell_type": "markdown",
   "metadata": {
    "heading_collapsed": true
   },
   "source": [
    "# Fine-tuning the model (GRU) (telephone)"
   ]
  },
  {
   "cell_type": "code",
   "execution_count": 177,
   "metadata": {
    "hidden": true
   },
   "outputs": [],
   "source": [
    "gru = torch.load('/scratch/ark576/NLP_HW_2/gru_hd=400_t2_dp=0_max_len=50_multh_200k')"
   ]
  },
  {
   "cell_type": "code",
   "execution_count": 178,
   "metadata": {
    "hidden": true
   },
   "outputs": [],
   "source": [
    "optimizer = optim.Adam(filter(lambda p: p.requires_grad, gru.parameters()), lr = 1e-3)"
   ]
  },
  {
   "cell_type": "code",
   "execution_count": 179,
   "metadata": {
    "hidden": true
   },
   "outputs": [],
   "source": [
    "criterion = nn.CrossEntropyLoss()"
   ]
  },
  {
   "cell_type": "code",
   "execution_count": 180,
   "metadata": {
    "hidden": true,
    "scrolled": true
   },
   "outputs": [
    {
     "name": "stdout",
     "output_type": "stream",
     "text": [
      "Epoch: [1/6], Step: [4/34], Validation Acc: 43.482587064676615\n",
      "Epoch: [1/6], Step: [7/34], Validation Acc: 44.27860696517413\n",
      "Epoch: [1/6], Step: [10/34], Validation Acc: 46.169154228855724\n",
      "Epoch: [1/6], Step: [13/34], Validation Acc: 44.5771144278607\n",
      "Epoch: [1/6], Step: [16/34], Validation Acc: 45.07462686567164\n",
      "Epoch: [1/6], Step: [19/34], Validation Acc: 44.776119402985074\n",
      "Epoch: [1/6], Step: [22/34], Validation Acc: 46.169154228855724\n",
      "Epoch: [1/6], Step: [25/34], Validation Acc: 45.97014925373134\n",
      "Epoch: [1/6], Step: [28/34], Validation Acc: 46.169154228855724\n",
      "Epoch: [1/6], Step: [31/34], Validation Acc: 45.27363184079602\n",
      "Epoch: [1/6], Step: [34/34], Validation Acc: 48.25870646766169\n",
      "Epoch: [2/6], Step: [4/34], Validation Acc: 48.55721393034826\n",
      "Epoch: [2/6], Step: [7/34], Validation Acc: 47.960199004975124\n",
      "Epoch: [2/6], Step: [10/34], Validation Acc: 47.86069651741293\n",
      "Epoch: [2/6], Step: [13/34], Validation Acc: 47.960199004975124\n",
      "Epoch: [2/6], Step: [16/34], Validation Acc: 48.656716417910445\n",
      "Epoch: [2/6], Step: [19/34], Validation Acc: 48.159203980099505\n",
      "Epoch: [2/6], Step: [22/34], Validation Acc: 48.656716417910445\n",
      "Epoch: [2/6], Step: [25/34], Validation Acc: 48.159203980099505\n",
      "Epoch: [2/6], Step: [28/34], Validation Acc: 48.656716417910445\n",
      "Epoch: [2/6], Step: [31/34], Validation Acc: 49.15422885572139\n",
      "Epoch: [2/6], Step: [34/34], Validation Acc: 49.25373134328358\n",
      "Epoch: [3/6], Step: [4/34], Validation Acc: 48.35820895522388\n",
      "Epoch: [3/6], Step: [7/34], Validation Acc: 47.66169154228856\n",
      "Epoch: [3/6], Step: [10/34], Validation Acc: 47.960199004975124\n",
      "Epoch: [3/6], Step: [13/34], Validation Acc: 48.059701492537314\n",
      "Epoch: [3/6], Step: [16/34], Validation Acc: 48.756218905472636\n",
      "Epoch: [3/6], Step: [19/34], Validation Acc: 48.45771144278607\n",
      "Epoch: [3/6], Step: [22/34], Validation Acc: 48.059701492537314\n",
      "Epoch: [3/6], Step: [25/34], Validation Acc: 48.656716417910445\n",
      "Epoch: [3/6], Step: [28/34], Validation Acc: 47.66169154228856\n",
      "Epoch: [3/6], Step: [31/34], Validation Acc: 47.36318407960199\n",
      "Epoch: [3/6], Step: [34/34], Validation Acc: 46.069651741293534\n",
      "Epoch: [4/6], Step: [4/34], Validation Acc: 46.069651741293534\n",
      "Epoch: [4/6], Step: [7/34], Validation Acc: 46.3681592039801\n",
      "Epoch: [4/6], Step: [10/34], Validation Acc: 47.2636815920398\n",
      "Epoch: [4/6], Step: [13/34], Validation Acc: 46.865671641791046\n",
      "Epoch: [4/6], Step: [16/34], Validation Acc: 47.56218905472637\n",
      "Epoch: [4/6], Step: [19/34], Validation Acc: 47.2636815920398\n",
      "Epoch: [4/6], Step: [22/34], Validation Acc: 47.66169154228856\n",
      "Epoch: [4/6], Step: [25/34], Validation Acc: 47.06467661691542\n",
      "Epoch: [4/6], Step: [28/34], Validation Acc: 46.666666666666664\n",
      "Epoch: [4/6], Step: [31/34], Validation Acc: 46.069651741293534\n",
      "Epoch: [4/6], Step: [34/34], Validation Acc: 46.26865671641791\n",
      "Epoch: [5/6], Step: [4/34], Validation Acc: 46.26865671641791\n",
      "Epoch: [5/6], Step: [7/34], Validation Acc: 45.87064676616915\n",
      "Epoch: [5/6], Step: [10/34], Validation Acc: 46.666666666666664\n",
      "Epoch: [5/6], Step: [13/34], Validation Acc: 46.865671641791046\n",
      "Epoch: [5/6], Step: [16/34], Validation Acc: 46.766169154228855\n",
      "Epoch: [5/6], Step: [19/34], Validation Acc: 46.069651741293534\n",
      "Epoch: [5/6], Step: [22/34], Validation Acc: 45.67164179104478\n",
      "Epoch: [5/6], Step: [25/34], Validation Acc: 45.97014925373134\n",
      "Epoch: [5/6], Step: [28/34], Validation Acc: 46.3681592039801\n",
      "Epoch: [5/6], Step: [31/34], Validation Acc: 46.766169154228855\n",
      "Epoch: [5/6], Step: [34/34], Validation Acc: 47.16417910447761\n",
      "Epoch: [6/6], Step: [4/34], Validation Acc: 46.96517412935324\n",
      "Epoch: [6/6], Step: [7/34], Validation Acc: 47.16417910447761\n",
      "Epoch: [6/6], Step: [10/34], Validation Acc: 46.96517412935324\n",
      "Epoch: [6/6], Step: [13/34], Validation Acc: 46.96517412935324\n",
      "Epoch: [6/6], Step: [16/34], Validation Acc: 47.06467661691542\n",
      "Epoch: [6/6], Step: [19/34], Validation Acc: 47.36318407960199\n",
      "Epoch: [6/6], Step: [22/34], Validation Acc: 47.66169154228856\n",
      "Epoch: [6/6], Step: [25/34], Validation Acc: 47.36318407960199\n",
      "Epoch: [6/6], Step: [28/34], Validation Acc: 48.159203980099505\n",
      "Epoch: [6/6], Step: [31/34], Validation Acc: 47.2636815920398\n",
      "Epoch: [6/6], Step: [34/34], Validation Acc: 46.766169154228855\n",
      "Best Accuracy:49.25373134328358\n"
     ]
    }
   ],
   "source": [
    "gru, loss_dict_gru, acc_dict_gru, best_pred_gru = train_model(gru,criterion,optimizer,train_data_loaders[3],\\\n",
    "                                                              val_data_loaders[3],'gru_hd=400_t2_dp=0_max_len=50_multh_200k_ft_tele',num_epochs=6)"
   ]
  },
  {
   "cell_type": "code",
   "execution_count": 181,
   "metadata": {
    "hidden": true
   },
   "outputs": [
    {
     "data": {
      "text/plain": [
       "<matplotlib.legend.Legend at 0x2b0fd9508eb8>"
      ]
     },
     "execution_count": 181,
     "metadata": {},
     "output_type": "execute_result"
    },
    {
     "data": {
      "image/png": "[encoded data removed]",
      "text/plain": [
       "<Figure size 432x288 with 1 Axes>"
      ]
     },
     "metadata": {
      "needs_background": "light"
     },
     "output_type": "display_data"
    }
   ],
   "source": [
    "plt.plot(acc_dict_gru['val'], label = 'Validate')\n",
    "plt.plot(acc_dict_gru['train'], label = 'Train')\n",
    "plt.xlabel('A batch iteration')\n",
    "plt.ylabel('Accuracy')\n",
    "plt.legend()"
   ]
  },
  {
   "cell_type": "code",
   "execution_count": 182,
   "metadata": {
    "hidden": true
   },
   "outputs": [
    {
     "data": {
      "text/plain": [
       "<matplotlib.legend.Legend at 0x2b0fd9598390>"
      ]
     },
     "execution_count": 182,
     "metadata": {},
     "output_type": "execute_result"
    },
    {
     "data": {
      "image/png": "[encoded data removed]",
      "text/plain": [
       "<Figure size 432x288 with 1 Axes>"
      ]
     },
     "metadata": {
      "needs_background": "light"
     },
     "output_type": "display_data"
    }
   ],
   "source": [
    "plt.plot(loss_dict_gru['val'], label = 'Validate')\n",
    "plt.plot(loss_dict_gru['train'], label = 'Train')\n",
    "plt.xlabel('A batch iteration')\n",
    "plt.ylabel('Loss')\n",
    "plt.legend()"
   ]
  },
  {
   "cell_type": "markdown",
   "metadata": {
    "heading_collapsed": true
   },
   "source": [
    "# Fine-tuning the model (GRU) (travel)"
   ]
  },
  {
   "cell_type": "code",
   "execution_count": 183,
   "metadata": {
    "hidden": true
   },
   "outputs": [],
   "source": [
    "gru = torch.load('/scratch/ark576/NLP_HW_2/gru_hd=400_t2_dp=0_max_len=50_multh_200k')"
   ]
  },
  {
   "cell_type": "code",
   "execution_count": 184,
   "metadata": {
    "hidden": true
   },
   "outputs": [],
   "source": [
    "optimizer = optim.Adam(filter(lambda p: p.requires_grad, gru.parameters()), lr = 1e-3)"
   ]
  },
  {
   "cell_type": "code",
   "execution_count": 185,
   "metadata": {
    "hidden": true
   },
   "outputs": [],
   "source": [
    "criterion = nn.CrossEntropyLoss()"
   ]
  },
  {
   "cell_type": "code",
   "execution_count": 186,
   "metadata": {
    "hidden": true,
    "scrolled": true
   },
   "outputs": [
    {
     "name": "stdout",
     "output_type": "stream",
     "text": [
      "Epoch: [1/6], Step: [4/32], Validation Acc: 42.46435845213849\n",
      "Epoch: [1/6], Step: [7/32], Validation Acc: 45.11201629327902\n",
      "Epoch: [1/6], Step: [10/32], Validation Acc: 43.075356415478616\n",
      "Epoch: [1/6], Step: [13/32], Validation Acc: 43.9918533604888\n",
      "Epoch: [1/6], Step: [16/32], Validation Acc: 43.27902240325866\n",
      "Epoch: [1/6], Step: [19/32], Validation Acc: 43.9918533604888\n",
      "Epoch: [1/6], Step: [22/32], Validation Acc: 43.686354378818734\n",
      "Epoch: [1/6], Step: [25/32], Validation Acc: 44.806517311608964\n",
      "Epoch: [1/6], Step: [28/32], Validation Acc: 45.824847250509166\n",
      "Epoch: [1/6], Step: [31/32], Validation Acc: 44.70468431771894\n",
      "Epoch: [2/6], Step: [4/32], Validation Acc: 46.02851323828921\n",
      "Epoch: [2/6], Step: [7/32], Validation Acc: 45.11201629327902\n",
      "Epoch: [2/6], Step: [10/32], Validation Acc: 45.723014256619145\n",
      "Epoch: [2/6], Step: [13/32], Validation Acc: 45.5193482688391\n",
      "Epoch: [2/6], Step: [16/32], Validation Acc: 45.926680244399186\n",
      "Epoch: [2/6], Step: [19/32], Validation Acc: 46.33401221995927\n",
      "Epoch: [2/6], Step: [22/32], Validation Acc: 46.23217922606925\n",
      "Epoch: [2/6], Step: [25/32], Validation Acc: 46.639511201629325\n",
      "Epoch: [2/6], Step: [28/32], Validation Acc: 46.13034623217923\n",
      "Epoch: [2/6], Step: [31/32], Validation Acc: 47.657841140529534\n",
      "Epoch: [3/6], Step: [4/32], Validation Acc: 47.759674134419555\n",
      "Epoch: [3/6], Step: [7/32], Validation Acc: 47.45417515274949\n",
      "Epoch: [3/6], Step: [10/32], Validation Acc: 46.435845213849284\n",
      "Epoch: [3/6], Step: [13/32], Validation Acc: 45.31568228105906\n",
      "Epoch: [3/6], Step: [16/32], Validation Acc: 45.5193482688391\n",
      "Epoch: [3/6], Step: [19/32], Validation Acc: 46.23217922606925\n",
      "Epoch: [3/6], Step: [22/32], Validation Acc: 46.13034623217923\n",
      "Epoch: [3/6], Step: [25/32], Validation Acc: 46.435845213849284\n",
      "Epoch: [3/6], Step: [28/32], Validation Acc: 46.639511201629325\n",
      "Epoch: [3/6], Step: [31/32], Validation Acc: 47.04684317718941\n",
      "Epoch: [4/6], Step: [4/32], Validation Acc: 45.621181262729124\n",
      "Epoch: [4/6], Step: [7/32], Validation Acc: 45.21384928716904\n",
      "Epoch: [4/6], Step: [10/32], Validation Acc: 45.5193482688391\n",
      "Epoch: [4/6], Step: [13/32], Validation Acc: 45.5193482688391\n",
      "Epoch: [4/6], Step: [16/32], Validation Acc: 46.33401221995927\n",
      "Epoch: [4/6], Step: [19/32], Validation Acc: 47.657841140529534\n",
      "Epoch: [4/6], Step: [22/32], Validation Acc: 46.02851323828921\n",
      "Epoch: [4/6], Step: [25/32], Validation Acc: 47.25050916496945\n",
      "Epoch: [4/6], Step: [28/32], Validation Acc: 46.639511201629325\n",
      "Epoch: [4/6], Step: [31/32], Validation Acc: 46.94501018329939\n",
      "Epoch: [5/6], Step: [4/32], Validation Acc: 47.14867617107943\n",
      "Epoch: [5/6], Step: [7/32], Validation Acc: 46.84317718940937\n",
      "Epoch: [5/6], Step: [10/32], Validation Acc: 46.84317718940937\n",
      "Epoch: [5/6], Step: [13/32], Validation Acc: 46.84317718940937\n",
      "Epoch: [5/6], Step: [16/32], Validation Acc: 46.537678207739305\n",
      "Epoch: [5/6], Step: [19/32], Validation Acc: 46.33401221995927\n",
      "Epoch: [5/6], Step: [22/32], Validation Acc: 46.02851323828921\n",
      "Epoch: [5/6], Step: [25/32], Validation Acc: 46.741344195519346\n",
      "Epoch: [5/6], Step: [28/32], Validation Acc: 46.94501018329939\n",
      "Epoch: [5/6], Step: [31/32], Validation Acc: 46.741344195519346\n",
      "Epoch: [6/6], Step: [4/32], Validation Acc: 46.639511201629325\n",
      "Epoch: [6/6], Step: [7/32], Validation Acc: 46.33401221995927\n",
      "Epoch: [6/6], Step: [10/32], Validation Acc: 46.435845213849284\n",
      "Epoch: [6/6], Step: [13/32], Validation Acc: 46.537678207739305\n",
      "Epoch: [6/6], Step: [16/32], Validation Acc: 46.23217922606925\n",
      "Epoch: [6/6], Step: [19/32], Validation Acc: 46.639511201629325\n",
      "Epoch: [6/6], Step: [22/32], Validation Acc: 46.84317718940937\n",
      "Epoch: [6/6], Step: [25/32], Validation Acc: 46.537678207739305\n",
      "Epoch: [6/6], Step: [28/32], Validation Acc: 47.04684317718941\n",
      "Epoch: [6/6], Step: [31/32], Validation Acc: 47.25050916496945\n",
      "Best Accuracy:47.759674134419555\n"
     ]
    }
   ],
   "source": [
    "gru, loss_dict_gru, acc_dict_gru, best_pred_gru = train_model(gru,criterion,optimizer,train_data_loaders[4],\\\n",
    "                                                              val_data_loaders[4],'gru_hd=400_t2_dp=0_max_len=50_multh_200k_ft_trav',num_epochs=6)"
   ]
  },
  {
   "cell_type": "code",
   "execution_count": 187,
   "metadata": {
    "hidden": true
   },
   "outputs": [
    {
     "data": {
      "text/plain": [
       "<matplotlib.legend.Legend at 0x2b0fd9683f98>"
      ]
     },
     "execution_count": 187,
     "metadata": {},
     "output_type": "execute_result"
    },
    {
     "data": {
      "image/png": "[encoded data removed]",
      "text/plain": [
       "<Figure size 432x288 with 1 Axes>"
      ]
     },
     "metadata": {
      "needs_background": "light"
     },
     "output_type": "display_data"
    }
   ],
   "source": [
    "plt.plot(acc_dict_gru['val'], label = 'Validate')\n",
    "plt.plot(acc_dict_gru['train'], label = 'Train')\n",
    "plt.xlabel('A batch iteration')\n",
    "plt.ylabel('Accuracy')\n",
    "plt.legend()"
   ]
  },
  {
   "cell_type": "code",
   "execution_count": 188,
   "metadata": {
    "hidden": true
   },
   "outputs": [
    {
     "data": {
      "text/plain": [
       "<matplotlib.legend.Legend at 0x2b0fd9743278>"
      ]
     },
     "execution_count": 188,
     "metadata": {},
     "output_type": "execute_result"
    },
    {
     "data": {
      "image/png": "[encoded data removed]",
      "text/plain": [
       "<Figure size 432x288 with 1 Axes>"
      ]
     },
     "metadata": {
      "needs_background": "light"
     },
     "output_type": "display_data"
    }
   ],
   "source": [
    "plt.plot(loss_dict_gru['val'], label = 'Validate')\n",
    "plt.plot(loss_dict_gru['train'], label = 'Train')\n",
    "plt.xlabel('A batch iteration')\n",
    "plt.ylabel('Loss')\n",
    "plt.legend()"
   ]
  },
  {
   "cell_type": "markdown",
   "metadata": {},
   "source": [
    "# Checking accuracy of the fine-tuned model across genres (GRU)"
   ]
  },
  {
   "cell_type": "code",
   "execution_count": 189,
   "metadata": {},
   "outputs": [],
   "source": [
    "best_gru_models = ['gru_hd=400_t2_dp=0_max_len=50_multh_200k_ft_fic','gru_hd=400_t2_dp=0_max_len=50_multh_200k_ft_govt',\\\n",
    "                  'gru_hd=400_t2_dp=0_max_len=50_multh_200k_ft_slate','gru_hd=400_t2_dp=0_max_len=50_multh_200k_ft_tele',\\\n",
    "                  'gru_hd=400_t2_dp=0_max_len=50_multh_200k_ft_trav']"
   ]
  },
  {
   "cell_type": "code",
   "execution_count": 198,
   "metadata": {},
   "outputs": [],
   "source": [
    "acc_matrix_gru = np.zeros((5,5))\n",
    "loss_matrix_gru = np.zeros((5,5))\n",
    "for i,b in enumerate(best_gru_models):\n",
    "    best_model = torch.load('/scratch/ark576/NLP_HW_2/'+b)\n",
    "    for j,v in enumerate(val_data_loaders):\n",
    "        acc_matrix_gru[i,j], loss_matrix_gru[i,j], _ = test_model(v,best_model,criterion)"
   ]
  },
  {
   "cell_type": "code",
   "execution_count": 199,
   "metadata": {},
   "outputs": [
    {
     "data": {
      "text/plain": [
       "array([[48.94472362, 44.48818898, 42.11576846, 43.1840796 , 42.87169043],\n",
       "       [47.2361809 , 51.18110236, 44.61077844, 43.78109453, 46.13034623],\n",
       "       [43.91959799, 43.6023622 , 43.01397206, 42.58706468, 44.70468432],\n",
       "       [44.12060302, 45.96456693, 43.11377246, 48.95522388, 42.97352342],\n",
       "       [45.92964824, 47.24409449, 42.21556886, 43.9800995 , 47.25050916]])"
      ]
     },
     "execution_count": 199,
     "metadata": {},
     "output_type": "execute_result"
    }
   ],
   "source": [
    "acc_matrix_gru"
   ]
  },
  {
   "cell_type": "code",
   "execution_count": 200,
   "metadata": {},
   "outputs": [],
   "source": [
    "best_cnn_models = ['cnn_hd=500_ks=3_cath_200k_ft','cnn_hd=500_ks=3_cath_200k_ft_govt',\\\n",
    "                  'cnn_hd=500_ks=3_cath_200k_ft_slate','cnn_hd=500_ks=3_cath_200k_ft_tele',\\\n",
    "                  'cnn_hd=500_ks=3_cath_200k_ft_travel']"
   ]
  },
  {
   "cell_type": "code",
   "execution_count": 201,
   "metadata": {},
   "outputs": [],
   "source": [
    "acc_matrix_cnn = np.zeros((5,5))\n",
    "loss_matrix_cnn = np.zeros((5,5))\n",
    "for i,b in enumerate(best_cnn_models):\n",
    "    best_model = torch.load('/scratch/ark576/NLP_HW_2/'+b)\n",
    "    for j,v in enumerate(val_data_loaders):\n",
    "        acc_matrix_cnn[i,j], loss_matrix_cnn[i,j], _ = test_model(v,best_model,criterion)"
   ]
  },
  {
   "cell_type": "code",
   "execution_count": 202,
   "metadata": {
    "scrolled": true
   },
   "outputs": [
    {
     "data": {
      "text/plain": [
       "array([[47.33668342, 41.33858268, 45.00998004, 45.77114428, 46.7413442 ],\n",
       "       [42.4120603 , 47.83464567, 43.61277445, 45.97014925, 44.60285132],\n",
       "       [43.51758794, 44.29133858, 45.40918164, 46.66666667, 45.0101833 ],\n",
       "       [44.72361809, 45.76771654, 44.01197605, 51.04477612, 45.41751527],\n",
       "       [42.51256281, 47.34251969, 44.11177645, 46.66666667, 48.16700611]])"
      ]
     },
     "execution_count": 202,
     "metadata": {},
     "output_type": "execute_result"
    }
   ],
   "source": [
    "acc_matrix_cnn"
   ]
  },
  {
   "cell_type": "code",
   "execution_count": 206,
   "metadata": {},
   "outputs": [
    {
     "data": {
      "text/plain": [
       "<matplotlib.colorbar.Colorbar at 0x2b0fd9b430b8>"
      ]
     },
     "execution_count": 206,
     "metadata": {},
     "output_type": "execute_result"
    },
    {
     "data": {
      "image/png": "[encoded data removed]",
      "text/plain": [
       "<Figure size 432x288 with 2 Axes>"
      ]
     },
     "metadata": {
      "needs_background": "light"
     },
     "output_type": "display_data"
    }
   ],
   "source": [
    "plt.imshow(acc_matrix_cnn)\n",
    "plt.colorbar()"
   ]
  },
  {
   "cell_type": "code",
   "execution_count": 209,
   "metadata": {},
   "outputs": [],
   "source": [
    "import seaborn as sns"
   ]
  },
  {
   "cell_type": "code",
   "execution_count": 422,
   "metadata": {},
   "outputs": [
    {
     "data": {
      "text/plain": [
       "Text(32.09374999999999, 0.5, 'Models')"
      ]
     },
     "execution_count": 422,
     "metadata": {},
     "output_type": "execute_result"
    },
    {
     "data": {
      "image/png": "[encoded data removed]",
      "text/plain": [
       "<Figure size 432x288 with 2 Axes>"
      ]
     },
     "metadata": {
      "needs_background": "light"
     },
     "output_type": "display_data"
    }
   ],
   "source": [
    "sns.heatmap(acc_matrix_cnn,annot=True,fmt = '.3f', xticklabels=['fiction','govt','slate','tele','travel'],\\\n",
    "           yticklabels = ['cnn_fine_tuned_on_fiction','cnn_fine_tuned_on_govt','cnn_fine_tuned_on_slate','cnn_fined_on_tune_tele','cnn_fine_tuned_on_travel'])\n",
    "plt.xlabel('Genres')\n",
    "plt.ylabel('Models')"
   ]
  },
  {
   "cell_type": "code",
   "execution_count": 421,
   "metadata": {},
   "outputs": [
    {
     "data": {
      "text/plain": [
       "Text(32.09374999999999, 0.5, 'Models')"
      ]
     },
     "execution_count": 421,
     "metadata": {},
     "output_type": "execute_result"
    },
    {
     "data": {
      "image/png": "[encoded data removed]",
      "text/plain": [
       "<Figure size 432x288 with 2 Axes>"
      ]
     },
     "metadata": {
      "needs_background": "light"
     },
     "output_type": "display_data"
    }
   ],
   "source": [
    "sns.heatmap(acc_matrix_gru,annot=True,fmt = '.3f', xticklabels=['fiction','govt','slate','tele','travel'],\\\n",
    "           yticklabels = ['gru_fine_tuned_on_fiction','gru_fine_tuned_on_govt','gru_fine_tuned_on_slate','gru_fine_tuned_on_tele','gru_fine_tuned_on_travel'])\n",
    "plt.xlabel('Genres')\n",
    "plt.ylabel('Models')"
   ]
  },
  {
   "cell_type": "code",
   "execution_count": null,
   "metadata": {},
   "outputs": [],
   "source": []
  }
 ],
 "metadata": {
  "kernelspec": {
   "display_name": "Python 3",
   "language": "python",
   "name": "python3"
  },
  "language_info": {
   "codemirror_mode": {
    "name": "ipython",
    "version": 3
   },
   "file_extension": ".py",
   "mimetype": "text/x-python",
   "name": "python",
   "nbconvert_exporter": "python",
   "pygments_lexer": "ipython3",
   "version": "3.6.6"
  }
 },
 "nbformat": 4,
 "nbformat_minor": 2
}
